{
  "nbformat": 4,
  "nbformat_minor": 0,
  "metadata": {
    "colab": {
      "provenance": [],
      "collapsed_sections": [],
      "authorship_tag": "ABX9TyNm7capfNjtNeY0BP77zCbA",
      "include_colab_link": true
    },
    "kernelspec": {
      "name": "python3",
      "display_name": "Python 3"
    },
    "language_info": {
      "name": "python"
    },
    "accelerator": "GPU",
    "gpuClass": "standard"
  },
  "cells": [
    {
      "cell_type": "markdown",
      "metadata": {
        "id": "view-in-github",
        "colab_type": "text"
      },
      "source": [
        "<a href=\"https://colab.research.google.com/github/bibekebib/Nepali-Letters-and-Numbers-classification-generation/blob/main/Nepali_handwriting_(Consonants)_Prediction_using_CNN.ipynb\" target=\"_parent\"><img src=\"https://colab.research.google.com/assets/colab-badge.svg\" alt=\"Open In Colab\"/></a>"
      ]
    },
    {
      "cell_type": "code",
      "execution_count": 78,
      "metadata": {
        "id": "5uFW99XQiF6c"
      },
      "outputs": [],
      "source": [
        "import numpy as np\n",
        "import pandas as pd\n",
        "import matplotlib.pyplot as plt\n",
        "import os\n",
        "import glob\n",
        "import tqdm\n",
        "import cv2\n",
        "import torch.nn as nn\n",
        "from sklearn.preprocessing import LabelEncoder\n",
        "from torch.utils.data import Dataset, DataLoader\n",
        "import torch\n",
        "import torchvision.transforms as T"
      ]
    },
    {
      "cell_type": "code",
      "source": [
        "device = 'cuda' if torch.cuda.is_available() else 'cpu'"
      ],
      "metadata": {
        "id": "F2p7I0jv2otq"
      },
      "execution_count": 79,
      "outputs": []
    },
    {
      "cell_type": "code",
      "source": [
        "# !git clone https://github.com/kcnishan/Nepali_handwritten_digits_recognition.git"
      ],
      "metadata": {
        "id": "yfAu8NUHiP9v"
      },
      "execution_count": 80,
      "outputs": []
    },
    {
      "cell_type": "code",
      "source": [
        "plt.imshow(cv2.imread('/content/Nepali_handwritten_digits_recognition/dataset/Test/consonants/character_33_ha/14884.png'))\n",
        "plt.show()"
      ],
      "metadata": {
        "colab": {
          "base_uri": "https://localhost:8080/",
          "height": 266
        },
        "id": "dO4fgM8rkrg_",
        "outputId": "34059d94-e6dc-4472-969b-bba900929f49"
      },
      "execution_count": 81,
      "outputs": [
        {
          "output_type": "display_data",
          "data": {
            "text/plain": [
              "<Figure size 432x288 with 1 Axes>"
            ],
            "image/png": "[encoded data removed]"
          },
          "metadata": {
            "needs_background": "light"
          }
        }
      ]
    },
    {
      "cell_type": "code",
      "source": [
        "X_img = []\n",
        "train_path = '/content/Nepali_handwritten_digits_recognition/dataset/Train/consonants'\n",
        "Test_path = '/content/Nepali_handwritten_digits_recognition/dataset/Test/consonants'\n",
        "for each in os.listdir('/content/Nepali_handwritten_digits_recognition/dataset/Train/consonants'):\n",
        "  print(each)\n",
        "  for x in os.listdir(train_path+'/'+each):\n",
        "    X_img.append([train_path+'/'+each+'/'+x, each])\n",
        "    break"
      ],
      "metadata": {
        "colab": {
          "base_uri": "https://localhost:8080/"
        },
        "id": "j2jtN8AplD4H",
        "outputId": "305764b3-4053-4572-8e5e-a9802d6abc03"
      },
      "execution_count": 82,
      "outputs": [
        {
          "output_type": "stream",
          "name": "stdout",
          "text": [
            "character_16_tabala\n",
            "character_1_ka\n",
            "character_24_bha\n",
            "character_2_kha\n",
            "character_3_ga\n",
            "character_6_cha\n",
            "character_33_ha\n",
            "character_17_tha\n",
            "character_28_la\n",
            "character_4_gha\n",
            "character_14_dhaa\n",
            "character_27_ra\n",
            "character_30_motosaw\n",
            "character_19_dha\n",
            "character_29_waw\n",
            "character_25_ma\n",
            "character_26_yaw\n",
            "character_15_adna\n",
            "character_7_chha\n",
            "character_18_da\n",
            "character_36_gya\n",
            "character_35_tra\n",
            "character_10_yna\n",
            "character_9_jha\n",
            "character_21_pa\n",
            "character_23_ba\n",
            "character_12_thaa\n",
            "character_22_pha\n",
            "character_31_petchiryakha\n",
            "character_11_taamatar\n",
            "character_8_ja\n",
            "character_34_chhya\n",
            "character_13_daa\n",
            "character_5_kna\n",
            "character_32_patalosaw\n",
            "character_20_na\n"
          ]
        }
      ]
    },
    {
      "cell_type": "code",
      "source": [],
      "metadata": {
        "id": "-XeEF9Ve9rz3"
      },
      "execution_count": 82,
      "outputs": []
    },
    {
      "cell_type": "code",
      "source": [
        "plt.figure(figsize=(20,20)) # specifying the overall grid size\n",
        "\n",
        "for i in range(36):\n",
        "    plt.subplot(7,6,i+1)    # the number of images in the grid is 5*5 (25)\n",
        "    plt.imshow(cv2.imread(X_img[i][0]))\n",
        "    plt.title(X_img[i][1])\n",
        "    plt.tight_layout(pad=1.0)\n",
        "plt.show()"
      ],
      "metadata": {
        "colab": {
          "base_uri": "https://localhost:8080/",
          "height": 928
        },
        "id": "JIxjLyHgl8Ef",
        "outputId": "d9b6fa9c-15e0-4cd6-8d32-ad4d0d2a67d3"
      },
      "execution_count": 83,
      "outputs": [
        {
          "output_type": "display_data",
          "data": {
            "text/plain": [
              "<Figure size 1440x1440 with 36 Axes>"
            ],
            "image/png": "[encoded data removed]"
          },
          "metadata": {
            "needs_background": "light"
          }
        }
      ]
    },
    {
      "cell_type": "code",
      "source": [
        "img_path = []\n",
        "label = []\n",
        "for each in os.listdir(train_path):\n",
        "  for x in os.listdir(train_path+'/'+each):\n",
        "    img_path.append(train_path+'/'+each+'/'+x)\n",
        "    label.append(each)"
      ],
      "metadata": {
        "id": "w1gY8Fa-qZlH"
      },
      "execution_count": 95,
      "outputs": []
    },
    {
      "cell_type": "code",
      "source": [
        "import os\n",
        "from os import listdir\n",
        "from PIL import Image"
      ],
      "metadata": {
        "id": "PPJvSnniiBGp"
      },
      "execution_count": 85,
      "outputs": []
    },
    {
      "cell_type": "code",
      "source": [
        "count= 0\n",
        "for each in os.listdir(Test_path):\n",
        "  for x in os.listdir(Test_path+'/'+each):\n",
        "    if x.endswith('.png'):\n",
        "      try:\n",
        "        img = Image.open(Test_path+'/'+each+'/'+x)\n",
        "        img.verify()\n",
        "      except:\n",
        "        print(each+'/'+x)\n",
        "    else:\n",
        "      print(each+'/'+x)"
      ],
      "metadata": {
        "id": "etvPfq4bkB8t"
      },
      "execution_count": 86,
      "outputs": []
    },
    {
      "cell_type": "code",
      "source": [
        "# !rm -r '/content/Nepali_handwritten_digits_recognition/dataset/Test/consonants/character_22_pha/character_1_ka'"
      ],
      "metadata": {
        "id": "EaZnY3TSjK63"
      },
      "execution_count": 87,
      "outputs": []
    },
    {
      "cell_type": "code",
      "source": [
        "img_path_test = []\n",
        "label_test = []\n",
        "for each in os.listdir(Test_path):\n",
        "  for x in os.listdir(Test_path+'/'+each):\n",
        "    img_path_test.append(Test_path+'/'+each+'/'+x)\n",
        "    label_test.append(each)"
      ],
      "metadata": {
        "id": "ZMTjA7MmhueJ"
      },
      "execution_count": 98,
      "outputs": []
    },
    {
      "cell_type": "code",
      "source": [
        "df = pd.DataFrame(list(zip(img_path, label)), columns=['path', 'label'])"
      ],
      "metadata": {
        "id": "rvSZqI-UqxHZ"
      },
      "execution_count": 112,
      "outputs": []
    },
    {
      "cell_type": "code",
      "source": [
        "df_test = pd.DataFrame(list(zip(img_path_test, label_test)), columns=['path', 'label'])"
      ],
      "metadata": {
        "id": "3mk9_phIkV5O"
      },
      "execution_count": 113,
      "outputs": []
    },
    {
      "cell_type": "code",
      "source": [
        "df.head()"
      ],
      "metadata": {
        "colab": {
          "base_uri": "https://localhost:8080/",
          "height": 206
        },
        "id": "UKAKSEGMq-61",
        "outputId": "dec87fc6-75b4-4ae6-dfab-a8eaef48909f"
      },
      "execution_count": 114,
      "outputs": [
        {
          "output_type": "execute_result",
          "data": {
            "text/plain": [
              "                                                path                label\n",
              "0  /content/Nepali_handwritten_digits_recognition...  character_16_tabala\n",
              "1  /content/Nepali_handwritten_digits_recognition...  character_16_tabala\n",
              "2  /content/Nepali_handwritten_digits_recognition...  character_16_tabala\n",
              "3  /content/Nepali_handwritten_digits_recognition...  character_16_tabala\n",
              "4  /content/Nepali_handwritten_digits_recognition...  character_16_tabala"
            ],
            "text/html": [
              "\n",
              "  <div id=\"df-b0f30f44-43e2-4e65-8358-a76af98e47a4\">\n",
              "    <div class=\"colab-df-container\">\n",
              "      <div>\n",
              "<style scoped>\n",
              "    .dataframe tbody tr th:only-of-type {\n",
              "        vertical-align: middle;\n",
              "    }\n",
              "\n",
              "    .dataframe tbody tr th {\n",
              "        vertical-align: top;\n",
              "    }\n",
              "\n",
              "    .dataframe thead th {\n",
              "        text-align: right;\n",
              "    }\n",
              "</style>\n",
              "<table border=\"1\" class=\"dataframe\">\n",
              "  <thead>\n",
              "    <tr style=\"text-align: right;\">\n",
              "      <th></th>\n",
              "      <th>path</th>\n",
              "      <th>label</th>\n",
              "    </tr>\n",
              "  </thead>\n",
              "  <tbody>\n",
              "    <tr>\n",
              "      <th>0</th>\n",
              "      <td>/content/Nepali_handwritten_digits_recognition...</td>\n",
              "      <td>character_16_tabala</td>\n",
              "    </tr>\n",
              "    <tr>\n",
              "      <th>1</th>\n",
              "      <td>/content/Nepali_handwritten_digits_recognition...</td>\n",
              "      <td>character_16_tabala</td>\n",
              "    </tr>\n",
              "    <tr>\n",
              "      <th>2</th>\n",
              "      <td>/content/Nepali_handwritten_digits_recognition...</td>\n",
              "      <td>character_16_tabala</td>\n",
              "    </tr>\n",
              "    <tr>\n",
              "      <th>3</th>\n",
              "      <td>/content/Nepali_handwritten_digits_recognition...</td>\n",
              "      <td>character_16_tabala</td>\n",
              "    </tr>\n",
              "    <tr>\n",
              "      <th>4</th>\n",
              "      <td>/content/Nepali_handwritten_digits_recognition...</td>\n",
              "      <td>character_16_tabala</td>\n",
              "    </tr>\n",
              "  </tbody>\n",
              "</table>\n",
              "</div>\n",
              "      <button class=\"colab-df-convert\" onclick=\"convertToInteractive('df-b0f30f44-43e2-4e65-8358-a76af98e47a4')\"\n",
              "              title=\"Convert this dataframe to an interactive table.\"\n",
              "              style=\"display:none;\">\n",
              "        \n",
              "  <svg xmlns=\"http://www.w3.org/2000/svg\" height=\"24px\"viewBox=\"0 0 24 24\"\n",
              "       width=\"24px\">\n",
              "    <path d=\"M0 0h24v24H0V0z\" fill=\"none\"/>\n",
              "    <path d=\"M18.56 5.44l.94 2.06.94-2.06 2.06-.94-2.06-.94-.94-2.06-.94 2.06-2.06.94zm-11 1L8.5 8.5l.94-2.06 2.06-.94-2.06-.94L8.5 2.5l-.94 2.06-2.06.94zm10 10l.94 2.06.94-2.06 2.06-.94-2.06-.94-.94-2.06-.94 2.06-2.06.94z\"/><path d=\"M17.41 7.96l-1.37-1.37c-.4-.4-.92-.59-1.43-.59-.52 0-1.04.2-1.43.59L10.3 9.45l-7.72 7.72c-.78.78-.78 2.05 0 2.83L4 21.41c.39.39.9.59 1.41.59.51 0 1.02-.2 1.41-.59l7.78-7.78 2.81-2.81c.8-.78.8-2.07 0-2.86zM5.41 20L4 18.59l7.72-7.72 1.47 1.35L5.41 20z\"/>\n",
              "  </svg>\n",
              "      </button>\n",
              "      \n",
              "  <style>\n",
              "    .colab-df-container {\n",
              "      display:flex;\n",
              "      flex-wrap:wrap;\n",
              "      gap: 12px;\n",
              "    }\n",
              "\n",
              "    .colab-df-convert {\n",
              "      background-color: #E8F0FE;\n",
              "      border: none;\n",
              "      border-radius: 50%;\n",
              "      cursor: pointer;\n",
              "      display: none;\n",
              "      fill: #1967D2;\n",
              "      height: 32px;\n",
              "      padding: 0 0 0 0;\n",
              "      width: 32px;\n",
              "    }\n",
              "\n",
              "    .colab-df-convert:hover {\n",
              "      background-color: #E2EBFA;\n",
              "      box-shadow: 0px 1px 2px rgba(60, 64, 67, 0.3), 0px 1px 3px 1px rgba(60, 64, 67, 0.15);\n",
              "      fill: #174EA6;\n",
              "    }\n",
              "\n",
              "    [theme=dark] .colab-df-convert {\n",
              "      background-color: #3B4455;\n",
              "      fill: #D2E3FC;\n",
              "    }\n",
              "\n",
              "    [theme=dark] .colab-df-convert:hover {\n",
              "      background-color: #434B5C;\n",
              "      box-shadow: 0px 1px 3px 1px rgba(0, 0, 0, 0.15);\n",
              "      filter: drop-shadow(0px 1px 2px rgba(0, 0, 0, 0.3));\n",
              "      fill: #FFFFFF;\n",
              "    }\n",
              "  </style>\n",
              "\n",
              "      <script>\n",
              "        const buttonEl =\n",
              "          document.querySelector('#df-b0f30f44-43e2-4e65-8358-a76af98e47a4 button.colab-df-convert');\n",
              "        buttonEl.style.display =\n",
              "          google.colab.kernel.accessAllowed ? 'block' : 'none';\n",
              "\n",
              "        async function convertToInteractive(key) {\n",
              "          const element = document.querySelector('#df-b0f30f44-43e2-4e65-8358-a76af98e47a4');\n",
              "          const dataTable =\n",
              "            await google.colab.kernel.invokeFunction('convertToInteractive',\n",
              "                                                     [key], {});\n",
              "          if (!dataTable) return;\n",
              "\n",
              "          const docLinkHtml = 'Like what you see? Visit the ' +\n",
              "            '<a target=\"_blank\" href=https://colab.research.google.com/notebooks/data_table.ipynb>data table notebook</a>'\n",
              "            + ' to learn more about interactive tables.';\n",
              "          element.innerHTML = '';\n",
              "          dataTable['output_type'] = 'display_data';\n",
              "          await google.colab.output.renderOutput(dataTable, element);\n",
              "          const docLink = document.createElement('div');\n",
              "          docLink.innerHTML = docLinkHtml;\n",
              "          element.appendChild(docLink);\n",
              "        }\n",
              "      </script>\n",
              "    </div>\n",
              "  </div>\n",
              "  "
            ]
          },
          "metadata": {},
          "execution_count": 114
        }
      ]
    },
    {
      "cell_type": "code",
      "source": [
        "df_test.head()"
      ],
      "metadata": {
        "colab": {
          "base_uri": "https://localhost:8080/",
          "height": 206
        },
        "id": "02aoNSiTkct7",
        "outputId": "7edf4bd7-9373-4672-a246-a72b94672984"
      },
      "execution_count": 115,
      "outputs": [
        {
          "output_type": "execute_result",
          "data": {
            "text/plain": [
              "                                                path                label\n",
              "0  /content/Nepali_handwritten_digits_recognition...  character_16_tabala\n",
              "1  /content/Nepali_handwritten_digits_recognition...  character_16_tabala\n",
              "2  /content/Nepali_handwritten_digits_recognition...  character_16_tabala\n",
              "3  /content/Nepali_handwritten_digits_recognition...  character_16_tabala\n",
              "4  /content/Nepali_handwritten_digits_recognition...  character_16_tabala"
            ],
            "text/html": [
              "\n",
              "  <div id=\"df-e6c9b2a1-094d-443c-a1ab-6d4a692a099b\">\n",
              "    <div class=\"colab-df-container\">\n",
              "      <div>\n",
              "<style scoped>\n",
              "    .dataframe tbody tr th:only-of-type {\n",
              "        vertical-align: middle;\n",
              "    }\n",
              "\n",
              "    .dataframe tbody tr th {\n",
              "        vertical-align: top;\n",
              "    }\n",
              "\n",
              "    .dataframe thead th {\n",
              "        text-align: right;\n",
              "    }\n",
              "</style>\n",
              "<table border=\"1\" class=\"dataframe\">\n",
              "  <thead>\n",
              "    <tr style=\"text-align: right;\">\n",
              "      <th></th>\n",
              "      <th>path</th>\n",
              "      <th>label</th>\n",
              "    </tr>\n",
              "  </thead>\n",
              "  <tbody>\n",
              "    <tr>\n",
              "      <th>0</th>\n",
              "      <td>/content/Nepali_handwritten_digits_recognition...</td>\n",
              "      <td>character_16_tabala</td>\n",
              "    </tr>\n",
              "    <tr>\n",
              "      <th>1</th>\n",
              "      <td>/content/Nepali_handwritten_digits_recognition...</td>\n",
              "      <td>character_16_tabala</td>\n",
              "    </tr>\n",
              "    <tr>\n",
              "      <th>2</th>\n",
              "      <td>/content/Nepali_handwritten_digits_recognition...</td>\n",
              "      <td>character_16_tabala</td>\n",
              "    </tr>\n",
              "    <tr>\n",
              "      <th>3</th>\n",
              "      <td>/content/Nepali_handwritten_digits_recognition...</td>\n",
              "      <td>character_16_tabala</td>\n",
              "    </tr>\n",
              "    <tr>\n",
              "      <th>4</th>\n",
              "      <td>/content/Nepali_handwritten_digits_recognition...</td>\n",
              "      <td>character_16_tabala</td>\n",
              "    </tr>\n",
              "  </tbody>\n",
              "</table>\n",
              "</div>\n",
              "      <button class=\"colab-df-convert\" onclick=\"convertToInteractive('df-e6c9b2a1-094d-443c-a1ab-6d4a692a099b')\"\n",
              "              title=\"Convert this dataframe to an interactive table.\"\n",
              "              style=\"display:none;\">\n",
              "        \n",
              "  <svg xmlns=\"http://www.w3.org/2000/svg\" height=\"24px\"viewBox=\"0 0 24 24\"\n",
              "       width=\"24px\">\n",
              "    <path d=\"M0 0h24v24H0V0z\" fill=\"none\"/>\n",
              "    <path d=\"M18.56 5.44l.94 2.06.94-2.06 2.06-.94-2.06-.94-.94-2.06-.94 2.06-2.06.94zm-11 1L8.5 8.5l.94-2.06 2.06-.94-2.06-.94L8.5 2.5l-.94 2.06-2.06.94zm10 10l.94 2.06.94-2.06 2.06-.94-2.06-.94-.94-2.06-.94 2.06-2.06.94z\"/><path d=\"M17.41 7.96l-1.37-1.37c-.4-.4-.92-.59-1.43-.59-.52 0-1.04.2-1.43.59L10.3 9.45l-7.72 7.72c-.78.78-.78 2.05 0 2.83L4 21.41c.39.39.9.59 1.41.59.51 0 1.02-.2 1.41-.59l7.78-7.78 2.81-2.81c.8-.78.8-2.07 0-2.86zM5.41 20L4 18.59l7.72-7.72 1.47 1.35L5.41 20z\"/>\n",
              "  </svg>\n",
              "      </button>\n",
              "      \n",
              "  <style>\n",
              "    .colab-df-container {\n",
              "      display:flex;\n",
              "      flex-wrap:wrap;\n",
              "      gap: 12px;\n",
              "    }\n",
              "\n",
              "    .colab-df-convert {\n",
              "      background-color: #E8F0FE;\n",
              "      border: none;\n",
              "      border-radius: 50%;\n",
              "      cursor: pointer;\n",
              "      display: none;\n",
              "      fill: #1967D2;\n",
              "      height: 32px;\n",
              "      padding: 0 0 0 0;\n",
              "      width: 32px;\n",
              "    }\n",
              "\n",
              "    .colab-df-convert:hover {\n",
              "      background-color: #E2EBFA;\n",
              "      box-shadow: 0px 1px 2px rgba(60, 64, 67, 0.3), 0px 1px 3px 1px rgba(60, 64, 67, 0.15);\n",
              "      fill: #174EA6;\n",
              "    }\n",
              "\n",
              "    [theme=dark] .colab-df-convert {\n",
              "      background-color: #3B4455;\n",
              "      fill: #D2E3FC;\n",
              "    }\n",
              "\n",
              "    [theme=dark] .colab-df-convert:hover {\n",
              "      background-color: #434B5C;\n",
              "      box-shadow: 0px 1px 3px 1px rgba(0, 0, 0, 0.15);\n",
              "      filter: drop-shadow(0px 1px 2px rgba(0, 0, 0, 0.3));\n",
              "      fill: #FFFFFF;\n",
              "    }\n",
              "  </style>\n",
              "\n",
              "      <script>\n",
              "        const buttonEl =\n",
              "          document.querySelector('#df-e6c9b2a1-094d-443c-a1ab-6d4a692a099b button.colab-df-convert');\n",
              "        buttonEl.style.display =\n",
              "          google.colab.kernel.accessAllowed ? 'block' : 'none';\n",
              "\n",
              "        async function convertToInteractive(key) {\n",
              "          const element = document.querySelector('#df-e6c9b2a1-094d-443c-a1ab-6d4a692a099b');\n",
              "          const dataTable =\n",
              "            await google.colab.kernel.invokeFunction('convertToInteractive',\n",
              "                                                     [key], {});\n",
              "          if (!dataTable) return;\n",
              "\n",
              "          const docLinkHtml = 'Like what you see? Visit the ' +\n",
              "            '<a target=\"_blank\" href=https://colab.research.google.com/notebooks/data_table.ipynb>data table notebook</a>'\n",
              "            + ' to learn more about interactive tables.';\n",
              "          element.innerHTML = '';\n",
              "          dataTable['output_type'] = 'display_data';\n",
              "          await google.colab.output.renderOutput(dataTable, element);\n",
              "          const docLink = document.createElement('div');\n",
              "          docLink.innerHTML = docLinkHtml;\n",
              "          element.appendChild(docLink);\n",
              "        }\n",
              "      </script>\n",
              "    </div>\n",
              "  </div>\n",
              "  "
            ]
          },
          "metadata": {},
          "execution_count": 115
        }
      ]
    },
    {
      "cell_type": "code",
      "source": [
        "cv2.imread(df.path[0]).shape"
      ],
      "metadata": {
        "colab": {
          "base_uri": "https://localhost:8080/"
        },
        "id": "P70mmm8H2Iq4",
        "outputId": "712d873e-8ff0-4031-af06-11d13b1112c5"
      },
      "execution_count": 116,
      "outputs": [
        {
          "output_type": "execute_result",
          "data": {
            "text/plain": [
              "(32, 32, 3)"
            ]
          },
          "metadata": {},
          "execution_count": 116
        }
      ]
    },
    {
      "cell_type": "code",
      "source": [
        "LbE = LabelEncoder()\n",
        "LbE.fit(df.label)\n",
        "df.label =  LbE.transform(df.label)\n",
        "df_test.label =  LbE.transform(df_test.label)"
      ],
      "metadata": {
        "id": "43LSR6PjOpON"
      },
      "execution_count": 117,
      "outputs": []
    },
    {
      "cell_type": "code",
      "source": [
        "le_name_mapping = dict(zip(LbE.classes_, LbE.transform(LbE.classes_)))\n",
        "le_name_mapping"
      ],
      "metadata": {
        "colab": {
          "base_uri": "https://localhost:8080/"
        },
        "id": "usVi-MzUIvAg",
        "outputId": "23b41e22-efff-41c8-f5a7-d2296a89095d"
      },
      "execution_count": 118,
      "outputs": [
        {
          "output_type": "execute_result",
          "data": {
            "text/plain": [
              "{'character_10_yna': 0,\n",
              " 'character_11_taamatar': 1,\n",
              " 'character_12_thaa': 2,\n",
              " 'character_13_daa': 3,\n",
              " 'character_14_dhaa': 4,\n",
              " 'character_15_adna': 5,\n",
              " 'character_16_tabala': 6,\n",
              " 'character_17_tha': 7,\n",
              " 'character_18_da': 8,\n",
              " 'character_19_dha': 9,\n",
              " 'character_1_ka': 10,\n",
              " 'character_20_na': 11,\n",
              " 'character_21_pa': 12,\n",
              " 'character_22_pha': 13,\n",
              " 'character_23_ba': 14,\n",
              " 'character_24_bha': 15,\n",
              " 'character_25_ma': 16,\n",
              " 'character_26_yaw': 17,\n",
              " 'character_27_ra': 18,\n",
              " 'character_28_la': 19,\n",
              " 'character_29_waw': 20,\n",
              " 'character_2_kha': 21,\n",
              " 'character_30_motosaw': 22,\n",
              " 'character_31_petchiryakha': 23,\n",
              " 'character_32_patalosaw': 24,\n",
              " 'character_33_ha': 25,\n",
              " 'character_34_chhya': 26,\n",
              " 'character_35_tra': 27,\n",
              " 'character_36_gya': 28,\n",
              " 'character_3_ga': 29,\n",
              " 'character_4_gha': 30,\n",
              " 'character_5_kna': 31,\n",
              " 'character_6_cha': 32,\n",
              " 'character_7_chha': 33,\n",
              " 'character_8_ja': 34,\n",
              " 'character_9_jha': 35}"
            ]
          },
          "metadata": {},
          "execution_count": 118
        }
      ]
    },
    {
      "cell_type": "code",
      "source": [
        "df_test = df_test.sample(frac=1).reset_index(drop=True)\n",
        "df_test.iloc[302]"
      ],
      "metadata": {
        "colab": {
          "base_uri": "https://localhost:8080/"
        },
        "id": "3djlxJ6xkknI",
        "outputId": "3aea4a03-4449-46d7-b782-7ae5405e8d86"
      },
      "execution_count": 119,
      "outputs": [
        {
          "output_type": "execute_result",
          "data": {
            "text/plain": [
              "path     /content/Nepali_handwritten_digits_recognition...\n",
              "label                                                   31\n",
              "Name: 302, dtype: object"
            ]
          },
          "metadata": {},
          "execution_count": 119
        }
      ]
    },
    {
      "cell_type": "code",
      "source": [
        "from PIL import Image\n",
        "\n",
        "def test_img(img_path):\n",
        "  try:\n",
        "    img = cv2.imread(img_path)\n",
        "    img = cv2.cvtColor(img, cv2.COLOR_BGR2RGB)\n",
        "    im_pil = Image.fromarray(img)\n",
        "\n",
        "# For reversing the operation:\n",
        "    im_np = np.asarray(im_pil)\n",
        "  except:\n",
        "    path = img_path\n",
        "    return path"
      ],
      "metadata": {
        "id": "PYQAnThhafEm"
      },
      "execution_count": 120,
      "outputs": []
    },
    {
      "cell_type": "code",
      "source": [
        "for each in df_test.path:\n",
        "  test_img(each)"
      ],
      "metadata": {
        "id": "GKol0U_If74p"
      },
      "execution_count": 121,
      "outputs": []
    },
    {
      "cell_type": "code",
      "source": [
        "df = df.sample(frac=1).reset_index(drop=True)\n"
      ],
      "metadata": {
        "id": "v3drztu9Oxuu"
      },
      "execution_count": 122,
      "outputs": []
    },
    {
      "cell_type": "code",
      "source": [
        "transpose = T.Compose(\n",
        "   [T.ToPILImage(),\n",
        "    T.ToTensor(),  \n",
        "    T.Normalize(\n",
        "       mean=[0.485, 0.456, 0.406],\n",
        "       std=[0.229, 0.224, 0.225]\n",
        "   ),\n",
        "    T.Grayscale(num_output_channels=1)\n",
        "    ]\n",
        ")\n",
        "\n",
        "test_transpose = T.Compose(\n",
        "   [\n",
        "    T.ToTensor(),  \n",
        "    T.Normalize(\n",
        "       mean=[0.485, 0.456, 0.406],\n",
        "       std=[0.229, 0.224, 0.225]\n",
        "   ),\n",
        "    T.Grayscale(num_output_channels=1)\n",
        "    ]\n",
        ")"
      ],
      "metadata": {
        "id": "pukhah1TJ-ro"
      },
      "execution_count": 123,
      "outputs": []
    },
    {
      "cell_type": "code",
      "source": [],
      "metadata": {
        "id": "ioyAGdHHKFgm"
      },
      "execution_count": 123,
      "outputs": []
    },
    {
      "cell_type": "code",
      "source": [
        "class LetterDataset(Dataset):\n",
        "  def __init__(self, df, transpose):\n",
        "    self.fpath = df.path\n",
        "    self.label = df.label\n",
        "    self.transform = transpose\n",
        "\n",
        "  def __len__(self):\n",
        "    return len(self.fpath)\n",
        "  \n",
        "  def __getitem__(self, ix):\n",
        "    img = self.fpath[ix]\n",
        "    target = self.label[ix]\n",
        "    img = cv2.imread(img)\n",
        "    im = self.transform(img)\n",
        "    return torch.tensor(im/255).to(device).float(), torch.tensor(target).long().to(device)"
      ],
      "metadata": {
        "id": "92IlT7saw2uL"
      },
      "execution_count": 124,
      "outputs": []
    },
    {
      "cell_type": "code",
      "source": [
        "data =  LetterDataset(df, transpose)\n",
        "img, label = data[20000]\n",
        "print(img.shape)\n",
        "plt.imshow(img.cpu().reshape(32,32))\n",
        "plt.title(label)\n"
      ],
      "metadata": {
        "colab": {
          "base_uri": "https://localhost:8080/",
          "height": 372
        },
        "id": "6wnb-HrYys3j",
        "outputId": "c5240543-ffdf-4c94-d7e8-76e7cd7a2dc8"
      },
      "execution_count": 125,
      "outputs": [
        {
          "output_type": "stream",
          "name": "stdout",
          "text": [
            "torch.Size([1, 32, 32])\n"
          ]
        },
        {
          "output_type": "stream",
          "name": "stderr",
          "text": [
            "/usr/local/lib/python3.7/dist-packages/ipykernel_launcher.py:15: UserWarning: To copy construct from a tensor, it is recommended to use sourceTensor.clone().detach() or sourceTensor.clone().detach().requires_grad_(True), rather than torch.tensor(sourceTensor).\n",
            "  from ipykernel import kernelapp as app\n"
          ]
        },
        {
          "output_type": "execute_result",
          "data": {
            "text/plain": [
              "Text(0.5, 1.0, \"tensor(10, device='cuda:0')\")"
            ]
          },
          "metadata": {},
          "execution_count": 125
        },
        {
          "output_type": "display_data",
          "data": {
            "text/plain": [
              "<Figure size 432x288 with 1 Axes>"
            ],
            "image/png": "[encoded data removed]"
          },
          "metadata": {
            "needs_background": "light"
          }
        }
      ]
    },
    {
      "cell_type": "code",
      "source": [
        "data =  LetterDataset(df_test, test_transpose)\n",
        "img, label = data[2]\n",
        "print(img.shape)\n",
        "plt.imshow(img.cpu().reshape(32,32))\n",
        "plt.title(label)"
      ],
      "metadata": {
        "id": "XVdja0tM3Zi_",
        "colab": {
          "base_uri": "https://localhost:8080/",
          "height": 372
        },
        "outputId": "a692d30a-b779-4efe-ba73-81d5ef8ee491"
      },
      "execution_count": 126,
      "outputs": [
        {
          "output_type": "stream",
          "name": "stdout",
          "text": [
            "torch.Size([1, 32, 32])\n"
          ]
        },
        {
          "output_type": "stream",
          "name": "stderr",
          "text": [
            "/usr/local/lib/python3.7/dist-packages/ipykernel_launcher.py:15: UserWarning: To copy construct from a tensor, it is recommended to use sourceTensor.clone().detach() or sourceTensor.clone().detach().requires_grad_(True), rather than torch.tensor(sourceTensor).\n",
            "  from ipykernel import kernelapp as app\n"
          ]
        },
        {
          "output_type": "execute_result",
          "data": {
            "text/plain": [
              "Text(0.5, 1.0, \"tensor(13, device='cuda:0')\")"
            ]
          },
          "metadata": {},
          "execution_count": 126
        },
        {
          "output_type": "display_data",
          "data": {
            "text/plain": [
              "<Figure size 432x288 with 1 Axes>"
            ],
            "image/png": "[encoded data removed]"
          },
          "metadata": {
            "needs_background": "light"
          }
        }
      ]
    },
    {
      "cell_type": "code",
      "source": [
        "def conv_layer(ni, no, kernel_size, max_pool_num=2, stride=1,):\n",
        "  return nn.Sequential(\n",
        "      nn.Conv2d(ni, no, kernel_size, stride),\n",
        "      nn.BatchNorm2d(no),\n",
        "      nn.LeakyReLU(0.2),\n",
        "      nn.MaxPool2d(max_pool_num)\n",
        "  )"
      ],
      "metadata": {
        "id": "uoy_htFrYEC6"
      },
      "execution_count": 127,
      "outputs": []
    },
    {
      "cell_type": "code",
      "source": [
        "from torch.nn.modules.activation import Softmax\n",
        "def get_model():\n",
        "  model = nn.Sequential(\n",
        "      conv_layer(1,8,2),\n",
        "      conv_layer(8,16, 2),\n",
        "      conv_layer(16, 64, 2),\n",
        "      nn.Flatten(),\n",
        "      nn.Linear(64*3*3,192),\n",
        "      nn.ReLU(),\n",
        "      nn.Linear(192, 64),\n",
        "      nn.ReLU(),\n",
        "      nn.Linear(64, 36),\n",
        "      nn.Softmax()\n",
        "  ).to(device)\n",
        "  loss_fn = nn.CrossEntropyLoss()\n",
        "  optimizer = torch.optim.Adam(model.parameters(), lr=1e-3)\n",
        "  return model, loss_fn, optimizer"
      ],
      "metadata": {
        "id": "RI4R8JjbRXSh"
      },
      "execution_count": 128,
      "outputs": []
    },
    {
      "cell_type": "code",
      "source": [
        "def calculateHWOUT(H_in, W_IN, padding, kernel_size, stride, max_pool_num):\n",
        "    H_out = (((H_in + 2*padding - kernel_size) / stride ) +1) / max_pool_num\n",
        "    W_out = (((W_IN + 2*padding - kernel_size) / stride ) +1) / max_pool_num\n",
        "    return (round(H_out), round(W_out))"
      ],
      "metadata": {
        "id": "80TgrrsQjeOB"
      },
      "execution_count": 129,
      "outputs": []
    },
    {
      "cell_type": "code",
      "source": [
        "calculateHWOUT(H_in=4, W_IN=4, padding=0, kernel_size=2, stride=1, max_pool_num=2)"
      ],
      "metadata": {
        "colab": {
          "base_uri": "https://localhost:8080/"
        },
        "id": "2WhJLxhni87k",
        "outputId": "399e879c-306f-4189-d573-d666768e9c6b"
      },
      "execution_count": 130,
      "outputs": [
        {
          "output_type": "execute_result",
          "data": {
            "text/plain": [
              "(2, 2)"
            ]
          },
          "metadata": {},
          "execution_count": 130
        }
      ]
    },
    {
      "cell_type": "code",
      "source": [
        "model, loss_fn, optimizer = get_model()"
      ],
      "metadata": {
        "id": "wuFJF9U3abio"
      },
      "execution_count": 131,
      "outputs": []
    },
    {
      "cell_type": "code",
      "source": [
        "from torchsummary import summary\n",
        "summary(model, (1, 32, 32))"
      ],
      "metadata": {
        "colab": {
          "base_uri": "https://localhost:8080/"
        },
        "id": "hQ3lt5AcalP3",
        "outputId": "255a1525-824e-4c65-a9e8-e06bb2a2a525"
      },
      "execution_count": 132,
      "outputs": [
        {
          "output_type": "stream",
          "name": "stdout",
          "text": [
            "----------------------------------------------------------------\n",
            "        Layer (type)               Output Shape         Param #\n",
            "================================================================\n",
            "            Conv2d-1            [-1, 8, 31, 31]              40\n",
            "       BatchNorm2d-2            [-1, 8, 31, 31]              16\n",
            "         LeakyReLU-3            [-1, 8, 31, 31]               0\n",
            "         MaxPool2d-4            [-1, 8, 15, 15]               0\n",
            "            Conv2d-5           [-1, 16, 14, 14]             528\n",
            "       BatchNorm2d-6           [-1, 16, 14, 14]              32\n",
            "         LeakyReLU-7           [-1, 16, 14, 14]               0\n",
            "         MaxPool2d-8             [-1, 16, 7, 7]               0\n",
            "            Conv2d-9             [-1, 64, 6, 6]           4,160\n",
            "      BatchNorm2d-10             [-1, 64, 6, 6]             128\n",
            "        LeakyReLU-11             [-1, 64, 6, 6]               0\n",
            "        MaxPool2d-12             [-1, 64, 3, 3]               0\n",
            "          Flatten-13                  [-1, 576]               0\n",
            "           Linear-14                  [-1, 192]         110,784\n",
            "             ReLU-15                  [-1, 192]               0\n",
            "           Linear-16                   [-1, 64]          12,352\n",
            "             ReLU-17                   [-1, 64]               0\n",
            "           Linear-18                   [-1, 36]           2,340\n",
            "          Softmax-19                   [-1, 36]               0\n",
            "================================================================\n",
            "Total params: 130,380\n",
            "Trainable params: 130,380\n",
            "Non-trainable params: 0\n",
            "----------------------------------------------------------------\n",
            "Input size (MB): 0.00\n",
            "Forward/backward pass size (MB): 0.33\n",
            "Params size (MB): 0.50\n",
            "Estimated Total Size (MB): 0.83\n",
            "----------------------------------------------------------------\n"
          ]
        },
        {
          "output_type": "stream",
          "name": "stderr",
          "text": [
            "/usr/local/lib/python3.7/dist-packages/torch/nn/modules/container.py:139: UserWarning: Implicit dimension choice for softmax has been deprecated. Change the call to include dim=X as an argument.\n",
            "  input = module(input)\n"
          ]
        }
      ]
    },
    {
      "cell_type": "code",
      "source": [
        "def get_data():\n",
        "  data =  LetterDataset(df, transpose)\n",
        "  trn_ldr = DataLoader(data, batch_size=32, shuffle=True)\n",
        "  data_test = LetterDataset(df_test, test_transpose)\n",
        "  test_ldr = DataLoader(data_test, batch_size=32)\n",
        "  return trn_ldr, test_ldr"
      ],
      "metadata": {
        "id": "qtKAnVVhaqoO"
      },
      "execution_count": 133,
      "outputs": []
    },
    {
      "cell_type": "code",
      "source": [
        "def train_batch(x, y, model, loss_fn, optimizer):\n",
        "  model.train()\n",
        "  pred = model(x)\n",
        "  batch_loss = loss_fn(pred, y)\n",
        "  batch_loss.backward()\n",
        "  optimizer.step()\n",
        "  optimizer.zero_grad()\n",
        "  return batch_loss.item()"
      ],
      "metadata": {
        "id": "PvCTYHo615tI"
      },
      "execution_count": 134,
      "outputs": []
    },
    {
      "cell_type": "code",
      "source": [
        "@torch.no_grad()\n",
        "def accuracy(x, y, model):\n",
        "  model.eval()\n",
        "  pred = model(x)\n",
        "  _, is_correct = torch.max(pred.data,1)\n",
        "  acc_all = (is_correct==y).detach().cpu().numpy()\n",
        "  return acc_all"
      ],
      "metadata": {
        "id": "6aqB-2WG4Z9Y"
      },
      "execution_count": 135,
      "outputs": []
    },
    {
      "cell_type": "code",
      "source": [
        "@torch.no_grad()\n",
        "def val_loss_trn(x, y, model, loss_fn):\n",
        "  prediction = model(x)\n",
        "  val_loss = loss_fn(prediction, y)\n",
        "\n",
        "  return val_loss.item()"
      ],
      "metadata": {
        "id": "vepXfx0sz6LF"
      },
      "execution_count": 136,
      "outputs": []
    },
    {
      "cell_type": "code",
      "source": [
        "trn_ldr, test_ldr = get_data()\n",
        "model, loss_fn, optimizer = get_model()\n"
      ],
      "metadata": {
        "id": "kTo6Hagi4r7c"
      },
      "execution_count": 138,
      "outputs": []
    },
    {
      "cell_type": "code",
      "source": [
        "train_loss = []\n",
        "train_accuracies= []\n",
        "val_loss = [] \n",
        "val_accuracies = []\n",
        "\n",
        "for i in range(20):\n",
        "  print(f'Epoch: _________*****{i}*****_______')\n",
        "  train_epoch_losses, train_epoch_accuracies = [], []\n",
        "  val_epoch_accuracies, val_epoch_losses = [], []\n",
        "\n",
        "\n",
        "\n",
        "  for ix, batch in (enumerate(iter(trn_ldr))):\n",
        "      x, y = batch\n",
        "      train_epoch_losses.append(train_batch(x, y, model, loss_fn, optimizer))\n",
        "  train_epoch_loss = np.array(train_epoch_losses).mean()\n",
        "  print(f'Epoch: _________*****{i} Training Loss : {train_epoch_loss} *****_______')\n",
        "\n",
        "\n",
        "\n",
        "  for ix, batch in (enumerate(iter(trn_ldr))):\n",
        "    x, y = batch\n",
        "    train_epoch_accuracies.append(sum(accuracy(x, y, model)) / len(y))\n",
        "  train_epoch_accuracy = np.array(train_epoch_accuracies).mean()\n",
        "  print(f'Epoch: _________*****{i} Training Accuracy: {train_epoch_accuracy} *****_______')\n",
        "\n",
        "\n",
        "\n",
        "  for ix, batch in (enumerate(iter(test_ldr))):\n",
        "    x, y = batch\n",
        "    val_epoch_losses.append(val_loss_trn(x, y, model, loss_fn))\n",
        "  val_epoch_loss = np.array(val_epoch_losses).mean()\n",
        "  print(f'Epoch: _________*****{i} Validation Loss : {val_epoch_loss} *****_______')\n",
        "\n",
        "  for ix, batch in (enumerate(iter(test_ldr))):\n",
        "    x, y = batch\n",
        "    val_epoch_accuracies.append(sum(accuracy(x, y, model)) / len(y))\n",
        "  val_epoch_accuracy = np.array(val_epoch_accuracies).mean()\n",
        "  print(f'Epoch: _________*****{i} Validation Accuracy. {val_epoch_accuracy} *****_______')\n",
        "  print('\\n')\n",
        "\n",
        "  train_loss.append(train_epoch_loss)\n",
        "  train_accuracies.append(train_epoch_accuracy)\n",
        "  val_accuracies.append(val_epoch_accuracy)\n",
        "  val_loss.append(val_epoch_loss)"
      ],
      "metadata": {
        "colab": {
          "base_uri": "https://localhost:8080/"
        },
        "id": "gaP-3jLe49LB",
        "outputId": "681b57bd-2dca-41ef-cd09-8760774147a0"
      },
      "execution_count": 140,
      "outputs": [
        {
          "metadata": {
            "tags": null
          },
          "name": "stdout",
          "output_type": "stream",
          "text": [
            "Epoch: _________*****0*****_______\n"
          ]
        },
        {
          "metadata": {
            "tags": null
          },
          "name": "stderr",
          "output_type": "stream",
          "text": [
            "/usr/local/lib/python3.7/dist-packages/ipykernel_launcher.py:15: UserWarning: To copy construct from a tensor, it is recommended to use sourceTensor.clone().detach() or sourceTensor.clone().detach().requires_grad_(True), rather than torch.tensor(sourceTensor).\n",
            "  from ipykernel import kernelapp as app\n"
          ]
        },
        {
          "output_type": "stream",
          "name": "stdout",
          "text": [
            "Epoch: _________*****0 Training Loss : 3.0713300267502204 *****_______\n",
            "Epoch: _________*****0 Training Accuracy: 0.4070014375326712 *****_______\n",
            "Epoch: _________*****0 Validation Loss : 3.2266234864850016 *****_______\n",
            "Epoch: _________*****0 Validation Accuracy. 0.4044008875739645 *****_______\n",
            "\n",
            "\n",
            "Epoch: _________*****1*****_______\n",
            "Epoch: _________*****1 Training Loss : 3.0045334526337197 *****_______\n",
            "Epoch: _________*****1 Training Accuracy: 0.33994380554103504 *****_______\n",
            "Epoch: _________*****1 Validation Loss : 3.290610943320235 *****_______\n",
            "Epoch: _________*****1 Validation Accuracy. 0.33940458579881655 *****_______\n",
            "\n",
            "\n",
            "Epoch: _________*****2*****_______\n",
            "Epoch: _________*****2 Training Loss : 2.942658168510561 *****_______\n",
            "Epoch: _________*****2 Training Accuracy: 0.6661820439100888 *****_______\n",
            "Epoch: _________*****2 Validation Loss : 2.9698341301912388 *****_______\n",
            "Epoch: _________*****2 Validation Accuracy. 0.6621671597633136 *****_______\n",
            "\n",
            "\n",
            "Epoch: _________*****3*****_______\n",
            "Epoch: _________*****3 Training Loss : 2.912303025349858 *****_______\n",
            "Epoch: _________*****3 Training Accuracy: 0.17707788813382122 *****_______\n",
            "Epoch: _________*****3 Validation Loss : 3.4484925869653917 *****_______\n",
            "Epoch: _________*****3 Validation Accuracy. 0.18010355029585798 *****_______\n",
            "\n",
            "\n",
            "Epoch: _________*****4*****_______\n",
            "Epoch: _________*****4 Training Loss : 2.883804093962618 *****_______\n",
            "Epoch: _________*****4 Training Accuracy: 0.7256436225823314 *****_______\n",
            "Epoch: _________*****4 Validation Loss : 2.91243420973332 *****_______\n",
            "Epoch: _________*****4 Validation Accuracy. 0.7193971893491125 *****_______\n",
            "\n",
            "\n",
            "Epoch: _________*****5*****_______\n",
            "Epoch: _________*****5 Training Loss : 2.8362809399067888 *****_______\n",
            "Epoch: _________*****5 Training Accuracy: 0.5735918714061683 *****_______\n",
            "Epoch: _________*****5 Validation Loss : 3.0670125674919264 *****_______\n",
            "Epoch: _________*****5 Validation Accuracy. 0.5646264792899408 *****_______\n",
            "\n",
            "\n",
            "Epoch: _________*****6*****_______\n",
            "Epoch: _________*****6 Training Loss : 2.826767403482456 *****_______\n",
            "Epoch: _________*****6 Training Accuracy: 0.705893883951908 *****_______\n",
            "Epoch: _________*****6 Validation Loss : 2.932549914664771 *****_______\n",
            "Epoch: _________*****6 Validation Accuracy. 0.6989644970414202 *****_______\n",
            "\n",
            "\n",
            "Epoch: _________*****7*****_______\n",
            "Epoch: _________*****7 Training Loss : 2.8234807671019997 *****_______\n",
            "Epoch: _________*****7 Training Accuracy: 0.24041100365917406 *****_______\n",
            "Epoch: _________*****7 Validation Loss : 3.3887279605019023 *****_______\n",
            "Epoch: _________*****7 Validation Accuracy. 0.23964497041420119 *****_______\n",
            "\n",
            "\n",
            "Epoch: _________*****8*****_______\n",
            "Epoch: _________*****8 Training Loss : 2.8211061782507887 *****_______\n",
            "Epoch: _________*****8 Training Accuracy: 0.09076058546785154 *****_______\n",
            "Epoch: _________*****8 Validation Loss : 3.538322848681162 *****_______\n",
            "Epoch: _________*****8 Validation Accuracy. 0.08949704142011834 *****_______\n",
            "\n",
            "\n",
            "Epoch: _________*****9*****_______\n",
            "Epoch: _________*****9 Training Loss : 2.812051746649575 *****_______\n",
            "Epoch: _________*****9 Training Accuracy: 0.8104580501829587 *****_______\n",
            "Epoch: _________*****9 Validation Loss : 2.830845248769726 *****_______\n",
            "Epoch: _________*****9 Validation Accuracy. 0.7991863905325444 *****_______\n",
            "\n",
            "\n",
            "Epoch: _________*****10*****_______\n",
            "Epoch: _________*****10 Training Loss : 2.77579560145245 *****_______\n",
            "Epoch: _________*****10 Training Accuracy: 0.5129704652378463 *****_______\n",
            "Epoch: _________*****10 Validation Loss : 3.120881740863507 *****_______\n",
            "Epoch: _________*****10 Validation Accuracy. 0.5085983727810651 *****_______\n",
            "\n",
            "\n",
            "Epoch: _________*****11*****_______\n",
            "Epoch: _________*****11 Training Loss : 2.7649869745586533 *****_______\n",
            "Epoch: _________*****11 Training Accuracy: 0.677960010454783 *****_______\n",
            "Epoch: _________*****11 Validation Loss : 2.96292516183571 *****_______\n",
            "Epoch: _________*****11 Validation Accuracy. 0.6680843195266272 *****_______\n",
            "\n",
            "\n",
            "Epoch: _________*****12*****_______\n",
            "Epoch: _________*****12 Training Loss : 2.7614315413581223 *****_______\n",
            "Epoch: _________*****12 Training Accuracy: 0.7865754051228437 *****_______\n",
            "Epoch: _________*****12 Validation Loss : 2.854666051074598 *****_______\n",
            "Epoch: _________*****12 Validation Accuracy. 0.7754252958579881 *****_______\n",
            "\n",
            "\n",
            "Epoch: _________*****13*****_______\n",
            "Epoch: _________*****13 Training Loss : 2.7611846310644954 *****_______\n",
            "Epoch: _________*****13 Training Accuracy: 0.5760585467851542 *****_______\n",
            "Epoch: _________*****13 Validation Loss : 3.0563501013806587 *****_______\n",
            "Epoch: _________*****13 Validation Accuracy. 0.5734097633136095 *****_______\n",
            "\n",
            "\n",
            "Epoch: _________*****14*****_______\n",
            "Epoch: _________*****14 Training Loss : 2.760571455619002 *****_______\n",
            "Epoch: _________*****14 Training Accuracy: 0.8600692629377941 *****_______\n",
            "Epoch: _________*****14 Validation Loss : 2.7782301063368307 *****_______\n",
            "Epoch: _________*****14 Validation Accuracy. 0.8521634615384616 *****_______\n",
            "\n",
            "\n",
            "Epoch: _________*****15*****_______\n",
            "Epoch: _________*****15 Training Loss : 2.759105087510591 *****_______\n",
            "Epoch: _________*****15 Training Accuracy: 0.6206874019864088 *****_______\n",
            "Epoch: _________*****15 Validation Loss : 3.0139290686895155 *****_______\n",
            "Epoch: _________*****15 Validation Accuracy. 0.6164016272189349 *****_______\n",
            "\n",
            "\n",
            "Epoch: _________*****16*****_______\n",
            "Epoch: _________*****16 Training Loss : 2.7590364232090714 *****_______\n",
            "Epoch: _________*****16 Training Accuracy: 0.5099647151071616 *****_______\n",
            "Epoch: _________*****16 Validation Loss : 3.1237931018750342 *****_______\n",
            "Epoch: _________*****16 Validation Accuracy. 0.506194526627219 *****_______\n",
            "\n",
            "\n",
            "Epoch: _________*****17*****_______\n",
            "Epoch: _________*****17 Training Loss : 2.758351917735457 *****_______\n",
            "Epoch: _________*****17 Training Accuracy: 0.7143230527966544 *****_______\n",
            "Epoch: _________*****17 Validation Loss : 2.9258838461700982 *****_______\n",
            "Epoch: _________*****17 Validation Accuracy. 0.7030325443786982 *****_______\n",
            "\n",
            "\n",
            "Epoch: _________*****18*****_______\n",
            "Epoch: _________*****18 Training Loss : 2.7561065964965503 *****_______\n",
            "Epoch: _________*****18 Training Accuracy: 0.8158324621014114 *****_______\n",
            "Epoch: _________*****18 Validation Loss : 2.82208963258732 *****_______\n",
            "Epoch: _________*****18 Validation Accuracy. 0.808801775147929 *****_______\n",
            "\n",
            "\n",
            "Epoch: _________*****19*****_______\n",
            "Epoch: _________*****19 Training Loss : 2.7566899245033323 *****_______\n",
            "Epoch: _________*****19 Training Accuracy: 0.4351476738107684 *****_______\n",
            "Epoch: _________*****19 Validation Loss : 3.1990124191758196 *****_______\n",
            "Epoch: _________*****19 Validation Accuracy. 0.4319526627218935 *****_______\n",
            "\n",
            "\n"
          ]
        }
      ]
    },
    {
      "cell_type": "code",
      "source": [
        "epochs = np.arange(20) + 1\n",
        "import matplotlib.ticker as mtick\n",
        "import matplotlib.pyplot as plt\n",
        "%matplotlib inline\n",
        "\n",
        "plt.plot(epochs, train_accuracies , label='Training accuracy')\n",
        "plt.plot(epochs, val_accuracies, label='Val_accuracy')\n",
        "plt.gca().xaxis.set_major_locator(mtick.MultipleLocator(1))\n",
        "plt.title('Training and Validation accuracy with 17000 data points used for training')\n",
        "plt.xlabel('epochs')\n",
        "plt.ylabel('accuracy')\n",
        "plt.gca().set_yticklabels(['{:.0f}%'.format(x*100) for x in plt.gca().get_yticks()])\n",
        "plt.grid('off')\n",
        "plt.show()"
      ],
      "metadata": {
        "colab": {
          "base_uri": "https://localhost:8080/",
          "height": 295
        },
        "id": "TgnJp9tCdNOz",
        "outputId": "f335e765-4d36-4b36-9630-5fb275151c7d"
      },
      "execution_count": 141,
      "outputs": [
        {
          "output_type": "display_data",
          "data": {
            "text/plain": [
              "<Figure size 432x288 with 1 Axes>"
            ],
            "image/png": "[encoded data removed]"
          },
          "metadata": {
            "needs_background": "light"
          }
        }
      ]
    },
    {
      "cell_type": "code",
      "source": [
        "epochs = np.arange(20) + 1\n",
        "import matplotlib.ticker as mtick\n",
        "import matplotlib.pyplot as plt\n",
        "%matplotlib inline\n",
        "\n",
        "plt.plot(epochs, train_loss , label='Training loss')\n",
        "plt.plot(epochs, val_loss, label='Val_loss')\n",
        "plt.gca().xaxis.set_major_locator(mtick.MultipleLocator(1))\n",
        "plt.title('Training and Validation loss with 17000 data points used for training')\n",
        "plt.xlabel('epochs')\n",
        "plt.ylabel('accuracy')\n",
        "\n",
        "plt.grid('off')\n",
        "plt.show()"
      ],
      "metadata": {
        "id": "Mm0tWrPJeaTV",
        "colab": {
          "base_uri": "https://localhost:8080/",
          "height": 295
        },
        "outputId": "c6d94f5e-64d9-45c3-81be-c0fbe4fa3830"
      },
      "execution_count": 142,
      "outputs": [
        {
          "output_type": "display_data",
          "data": {
            "text/plain": [
              "<Figure size 432x288 with 1 Axes>"
            ],
            "image/png": "[encoded data removed]"
          },
          "metadata": {
            "needs_background": "light"
          }
        }
      ]
    },
    {
      "cell_type": "code",
      "source": [
        "def preprocess_predict_data(img_path):\n",
        "  img = cv2.imread(img_path)\n",
        "  transform = T.Compose(\n",
        "   [T.ToPILImage(),\n",
        "    T.ToTensor(),  \n",
        "    T.Normalize(\n",
        "       mean=[0.485, 0.456, 0.406],\n",
        "       std=[0.229, 0.224, 0.225]\n",
        "   ),\n",
        "    T.Grayscale(num_output_channels=1)\n",
        "    ]\n",
        "  )\n",
        "  img = transform(img).to(device)\n",
        "  return img\n",
        "\n",
        "def predict(x, model):\n",
        "  img = preprocess_predict_data(x)\n",
        "  img = img.unsqueeze_(0)\n",
        "  pred = model(img)\n",
        "  return torch.max(pred.data, 1)"
      ],
      "metadata": {
        "id": "zxejJgZAFtWK"
      },
      "execution_count": 143,
      "outputs": []
    },
    {
      "cell_type": "code",
      "source": [
        "img_path = '/content/Nepali_handwritten_digits_recognition/dataset/Test/consonants/character_3_ga/11892.png'\n",
        "# img = preprocess_predict_data(img_path)\n",
        "pred = predict(img_path, model)\n",
        "print(pred)\n",
        "plt.imshow(cv2.imread(img_path))"
      ],
      "metadata": {
        "colab": {
          "base_uri": "https://localhost:8080/",
          "height": 393
        },
        "id": "0uY3vVhyFugX",
        "outputId": "94e1e791-9163-44b2-f8df-f0f8aba8a698"
      },
      "execution_count": 146,
      "outputs": [
        {
          "output_type": "stream",
          "name": "stdout",
          "text": [
            "torch.return_types.max(\n",
            "values=tensor([1.], device='cuda:0'),\n",
            "indices=tensor([21], device='cuda:0'))\n"
          ]
        },
        {
          "output_type": "stream",
          "name": "stderr",
          "text": [
            "/usr/local/lib/python3.7/dist-packages/torch/nn/modules/container.py:139: UserWarning: Implicit dimension choice for softmax has been deprecated. Change the call to include dim=X as an argument.\n",
            "  input = module(input)\n"
          ]
        },
        {
          "output_type": "execute_result",
          "data": {
            "text/plain": [
              "<matplotlib.image.AxesImage at 0x7fc92e5734d0>"
            ]
          },
          "metadata": {},
          "execution_count": 146
        },
        {
          "output_type": "display_data",
          "data": {
            "text/plain": [
              "<Figure size 432x288 with 1 Axes>"
            ],
            "image/png": "[encoded data removed]"
          },
          "metadata": {
            "needs_background": "light"
          }
        }
      ]
    },
    {
      "cell_type": "code",
      "source": [
        "img_path = '/content/Nepali_handwritten_digits_recognition/dataset/Test/consonants/character_17_tha/1014.png'\n",
        "pred = predict(img_path, model)\n",
        "print(pred)\n",
        "plt.imshow(cv2.imread(img_path))"
      ],
      "metadata": {
        "colab": {
          "base_uri": "https://localhost:8080/",
          "height": 393
        },
        "id": "1qX1RdVRs9Dc",
        "outputId": "c947941d-3be3-46ec-88dc-a2133d899b6a"
      },
      "execution_count": 147,
      "outputs": [
        {
          "output_type": "stream",
          "name": "stdout",
          "text": [
            "torch.return_types.max(\n",
            "values=tensor([1.], device='cuda:0'),\n",
            "indices=tensor([24], device='cuda:0'))\n"
          ]
        },
        {
          "output_type": "stream",
          "name": "stderr",
          "text": [
            "/usr/local/lib/python3.7/dist-packages/torch/nn/modules/container.py:139: UserWarning: Implicit dimension choice for softmax has been deprecated. Change the call to include dim=X as an argument.\n",
            "  input = module(input)\n"
          ]
        },
        {
          "output_type": "execute_result",
          "data": {
            "text/plain": [
              "<matplotlib.image.AxesImage at 0x7fc921fe6f90>"
            ]
          },
          "metadata": {},
          "execution_count": 147
        },
        {
          "output_type": "display_data",
          "data": {
            "text/plain": [
              "<Figure size 432x288 with 1 Axes>"
            ],
            "image/png": "[encoded data removed]"
          },
          "metadata": {
            "needs_background": "light"
          }
        }
      ]
    },
    {
      "cell_type": "code",
      "source": [
        "le_name_mapping"
      ],
      "metadata": {
        "colab": {
          "base_uri": "https://localhost:8080/"
        },
        "id": "nfRvV5hPF5zB",
        "outputId": "7ced6b8c-8908-4d1b-f22e-7eb656a93fb2"
      },
      "execution_count": 145,
      "outputs": [
        {
          "output_type": "execute_result",
          "data": {
            "text/plain": [
              "{'character_10_yna': 0,\n",
              " 'character_11_taamatar': 1,\n",
              " 'character_12_thaa': 2,\n",
              " 'character_13_daa': 3,\n",
              " 'character_14_dhaa': 4,\n",
              " 'character_15_adna': 5,\n",
              " 'character_16_tabala': 6,\n",
              " 'character_17_tha': 7,\n",
              " 'character_18_da': 8,\n",
              " 'character_19_dha': 9,\n",
              " 'character_1_ka': 10,\n",
              " 'character_20_na': 11,\n",
              " 'character_21_pa': 12,\n",
              " 'character_22_pha': 13,\n",
              " 'character_23_ba': 14,\n",
              " 'character_24_bha': 15,\n",
              " 'character_25_ma': 16,\n",
              " 'character_26_yaw': 17,\n",
              " 'character_27_ra': 18,\n",
              " 'character_28_la': 19,\n",
              " 'character_29_waw': 20,\n",
              " 'character_2_kha': 21,\n",
              " 'character_30_motosaw': 22,\n",
              " 'character_31_petchiryakha': 23,\n",
              " 'character_32_patalosaw': 24,\n",
              " 'character_33_ha': 25,\n",
              " 'character_34_chhya': 26,\n",
              " 'character_35_tra': 27,\n",
              " 'character_36_gya': 28,\n",
              " 'character_3_ga': 29,\n",
              " 'character_4_gha': 30,\n",
              " 'character_5_kna': 31,\n",
              " 'character_6_cha': 32,\n",
              " 'character_7_chha': 33,\n",
              " 'character_8_ja': 34,\n",
              " 'character_9_jha': 35}"
            ]
          },
          "metadata": {},
          "execution_count": 145
        }
      ]
    },
    {
      "cell_type": "code",
      "source": [],
      "metadata": {
        "id": "BHiTzEVasrD-"
      },
      "execution_count": null,
      "outputs": []
    }
  ]
}