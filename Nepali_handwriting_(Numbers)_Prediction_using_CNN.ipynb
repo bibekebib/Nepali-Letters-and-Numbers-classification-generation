{
  "nbformat": 4,
  "nbformat_minor": 0,
  "metadata": {
    "colab": {
      "provenance": [],
      "collapsed_sections": [],
      "authorship_tag": "ABX9TyMsLu39K9VjtyQ8BcmMFdON",
      "include_colab_link": true
    },
    "kernelspec": {
      "name": "python3",
      "display_name": "Python 3"
    },
    "language_info": {
      "name": "python"
    },
    "accelerator": "GPU",
    "gpuClass": "standard"
  },
  "cells": [
    {
      "cell_type": "markdown",
      "metadata": {
        "id": "view-in-github",
        "colab_type": "text"
      },
      "source": [
        "<a href=\"https://colab.research.google.com/github/bibekebib/Nepali-Letters-and-Numbers-classification-generation/blob/main/Nepali_handwriting_(Numbers)_Prediction_using_CNN.ipynb\" target=\"_parent\"><img src=\"https://colab.research.google.com/assets/colab-badge.svg\" alt=\"Open In Colab\"/></a>"
      ]
    },
    {
      "cell_type": "code",
      "execution_count": null,
      "metadata": {
        "id": "5uFW99XQiF6c"
      },
      "outputs": [],
      "source": [
        "import numpy as np\n",
        "import pandas as pd\n",
        "import matplotlib.pyplot as plt\n",
        "import os\n",
        "import glob\n",
        "import tqdm\n",
        "import cv2\n",
        "import torch.nn as nn\n",
        "from sklearn.preprocessing import LabelEncoder\n",
        "from torch.utils.data import Dataset, DataLoader\n",
        "import torch\n",
        "import torchvision.transforms as T"
      ]
    },
    {
      "cell_type": "code",
      "source": [
        "device = 'cuda' if torch.cuda.is_available() else 'cpu'"
      ],
      "metadata": {
        "id": "F2p7I0jv2otq"
      },
      "execution_count": null,
      "outputs": []
    },
    {
      "cell_type": "code",
      "source": [
        "!git clone https://github.com/kcnishan/Nepali_handwritten_digits_recognition.git"
      ],
      "metadata": {
        "colab": {
          "base_uri": "https://localhost:8080/"
        },
        "id": "yfAu8NUHiP9v",
        "outputId": "30bc971a-be7e-45f8-c38e-596da77ebd91"
      },
      "execution_count": null,
      "outputs": [
        {
          "output_type": "stream",
          "name": "stdout",
          "text": [
            "Cloning into 'Nepali_handwritten_digits_recognition'...\n",
            "remote: Enumerating objects: 92087, done.\u001b[K\n",
            "remote: Total 92087 (delta 0), reused 0 (delta 0), pack-reused 92087\u001b[K\n",
            "Receiving objects: 100% (92087/92087), 67.09 MiB | 22.08 MiB/s, done.\n",
            "Resolving deltas: 100% (3/3), done.\n",
            "Checking out files: 100% (92306/92306), done.\n"
          ]
        }
      ]
    },
    {
      "cell_type": "code",
      "source": [
        "plt.imshow(cv2.imread('/content/Nepali_handwritten_digits_recognition/dataset/Test/digits/digit_0/103277.png'))"
      ],
      "metadata": {
        "colab": {
          "base_uri": "https://localhost:8080/",
          "height": 284
        },
        "id": "dO4fgM8rkrg_",
        "outputId": "3bab8466-a596-4716-83aa-8cdd2116a14f"
      },
      "execution_count": null,
      "outputs": [
        {
          "output_type": "execute_result",
          "data": {
            "text/plain": [
              "<matplotlib.image.AxesImage at 0x7f57fc087a90>"
            ]
          },
          "metadata": {},
          "execution_count": 4
        },
        {
          "output_type": "display_data",
          "data": {
            "text/plain": [
              "<Figure size 432x288 with 1 Axes>"
            ],
            "image/png": "[encoded data removed]"
          },
          "metadata": {
            "needs_background": "light"
          }
        }
      ]
    },
    {
      "cell_type": "code",
      "source": [
        "X_img = []\n",
        "train_path = '/content/Nepali_handwritten_digits_recognition/dataset/Train/digits'\n",
        "Test_path = '/content/Nepali_handwritten_digits_recognition/dataset/Test/digits'\n",
        "for each in os.listdir('/content/Nepali_handwritten_digits_recognition/dataset/Train/digits'):\n",
        "  print(each)\n",
        "  for x in os.listdir(train_path+'/'+each):\n",
        "    X_img.append([train_path+'/'+each+'/'+x, each])\n",
        "    break"
      ],
      "metadata": {
        "colab": {
          "base_uri": "https://localhost:8080/"
        },
        "id": "j2jtN8AplD4H",
        "outputId": "bf030e2a-3cf2-4702-f664-5a0baab9f828"
      },
      "execution_count": null,
      "outputs": [
        {
          "output_type": "stream",
          "name": "stdout",
          "text": [
            "digit_9\n",
            "digit_5\n",
            "digit_7\n",
            "digit_0\n",
            "digit_4\n",
            "digit_3\n",
            "digit_6\n",
            "digit_2\n",
            "digit_8\n",
            "digit_1\n"
          ]
        }
      ]
    },
    {
      "cell_type": "code",
      "source": [
        "plt.figure(figsize=(10,10)) # specifying the overall grid size\n",
        "\n",
        "for i in range(10):\n",
        "    plt.subplot(5,5,i+1)    # the number of images in the grid is 5*5 (25)\n",
        "    img = cv2.imread(X_img[i][0])\n",
        "    plt.imshow(img)\n",
        "    plt.title(X_img[i][1])\n",
        "    plt.tight_layout(pad=1.0)\n",
        "plt.show()"
      ],
      "metadata": {
        "colab": {
          "base_uri": "https://localhost:8080/",
          "height": 312
        },
        "id": "JIxjLyHgl8Ef",
        "outputId": "20341858-c867-4fcc-d895-163e961ad37b"
      },
      "execution_count": null,
      "outputs": [
        {
          "output_type": "display_data",
          "data": {
            "text/plain": [
              "<Figure size 720x720 with 10 Axes>"
            ],
            "image/png": "[encoded data removed]"
          },
          "metadata": {
            "needs_background": "light"
          }
        }
      ]
    },
    {
      "cell_type": "code",
      "source": [
        "img_path = []\n",
        "label = []\n",
        "for each in os.listdir(train_path):\n",
        "  for x in os.listdir(train_path+'/'+each):\n",
        "    img_path.append(train_path+'/'+each+'/'+x)\n",
        "    label.append(each)"
      ],
      "metadata": {
        "id": "w1gY8Fa-qZlH"
      },
      "execution_count": null,
      "outputs": []
    },
    {
      "cell_type": "code",
      "source": [
        "img_path_test = []\n",
        "label_test = []\n",
        "for each in os.listdir(Test_path):\n",
        "  for x in os.listdir(Test_path+'/'+each):\n",
        "    img_path_test.append(Test_path+'/'+each+'/'+x)\n",
        "    label_test.append(each)"
      ],
      "metadata": {
        "id": "etvPfq4bkB8t"
      },
      "execution_count": null,
      "outputs": []
    },
    {
      "cell_type": "code",
      "source": [
        "df = pd.DataFrame(list(zip(img_path, label)), columns=['path', 'label'])"
      ],
      "metadata": {
        "id": "rvSZqI-UqxHZ"
      },
      "execution_count": null,
      "outputs": []
    },
    {
      "cell_type": "code",
      "source": [
        "df_test = pd.DataFrame(list(zip(img_path_test, label_test)), columns=['path', 'label'])"
      ],
      "metadata": {
        "id": "3mk9_phIkV5O"
      },
      "execution_count": null,
      "outputs": []
    },
    {
      "cell_type": "code",
      "source": [
        "df.head()"
      ],
      "metadata": {
        "colab": {
          "base_uri": "https://localhost:8080/",
          "height": 206
        },
        "id": "UKAKSEGMq-61",
        "outputId": "5e9e23a6-7652-4fb0-bc8e-9fb5362eab02"
      },
      "execution_count": null,
      "outputs": [
        {
          "output_type": "execute_result",
          "data": {
            "text/plain": [
              "                                                path    label\n",
              "0  /content/Nepali_handwritten_digits_recognition...  digit_9\n",
              "1  /content/Nepali_handwritten_digits_recognition...  digit_9\n",
              "2  /content/Nepali_handwritten_digits_recognition...  digit_9\n",
              "3  /content/Nepali_handwritten_digits_recognition...  digit_9\n",
              "4  /content/Nepali_handwritten_digits_recognition...  digit_9"
            ],
            "text/html": [
              "\n",
              "  <div id=\"df-5fd74f61-d3d3-463b-b916-5bafbd6b7977\">\n",
              "    <div class=\"colab-df-container\">\n",
              "      <div>\n",
              "<style scoped>\n",
              "    .dataframe tbody tr th:only-of-type {\n",
              "        vertical-align: middle;\n",
              "    }\n",
              "\n",
              "    .dataframe tbody tr th {\n",
              "        vertical-align: top;\n",
              "    }\n",
              "\n",
              "    .dataframe thead th {\n",
              "        text-align: right;\n",
              "    }\n",
              "</style>\n",
              "<table border=\"1\" class=\"dataframe\">\n",
              "  <thead>\n",
              "    <tr style=\"text-align: right;\">\n",
              "      <th></th>\n",
              "      <th>path</th>\n",
              "      <th>label</th>\n",
              "    </tr>\n",
              "  </thead>\n",
              "  <tbody>\n",
              "    <tr>\n",
              "      <th>0</th>\n",
              "      <td>/content/Nepali_handwritten_digits_recognition...</td>\n",
              "      <td>digit_9</td>\n",
              "    </tr>\n",
              "    <tr>\n",
              "      <th>1</th>\n",
              "      <td>/content/Nepali_handwritten_digits_recognition...</td>\n",
              "      <td>digit_9</td>\n",
              "    </tr>\n",
              "    <tr>\n",
              "      <th>2</th>\n",
              "      <td>/content/Nepali_handwritten_digits_recognition...</td>\n",
              "      <td>digit_9</td>\n",
              "    </tr>\n",
              "    <tr>\n",
              "      <th>3</th>\n",
              "      <td>/content/Nepali_handwritten_digits_recognition...</td>\n",
              "      <td>digit_9</td>\n",
              "    </tr>\n",
              "    <tr>\n",
              "      <th>4</th>\n",
              "      <td>/content/Nepali_handwritten_digits_recognition...</td>\n",
              "      <td>digit_9</td>\n",
              "    </tr>\n",
              "  </tbody>\n",
              "</table>\n",
              "</div>\n",
              "      <button class=\"colab-df-convert\" onclick=\"convertToInteractive('df-5fd74f61-d3d3-463b-b916-5bafbd6b7977')\"\n",
              "              title=\"Convert this dataframe to an interactive table.\"\n",
              "              style=\"display:none;\">\n",
              "        \n",
              "  <svg xmlns=\"http://www.w3.org/2000/svg\" height=\"24px\"viewBox=\"0 0 24 24\"\n",
              "       width=\"24px\">\n",
              "    <path d=\"M0 0h24v24H0V0z\" fill=\"none\"/>\n",
              "    <path d=\"M18.56 5.44l.94 2.06.94-2.06 2.06-.94-2.06-.94-.94-2.06-.94 2.06-2.06.94zm-11 1L8.5 8.5l.94-2.06 2.06-.94-2.06-.94L8.5 2.5l-.94 2.06-2.06.94zm10 10l.94 2.06.94-2.06 2.06-.94-2.06-.94-.94-2.06-.94 2.06-2.06.94z\"/><path d=\"M17.41 7.96l-1.37-1.37c-.4-.4-.92-.59-1.43-.59-.52 0-1.04.2-1.43.59L10.3 9.45l-7.72 7.72c-.78.78-.78 2.05 0 2.83L4 21.41c.39.39.9.59 1.41.59.51 0 1.02-.2 1.41-.59l7.78-7.78 2.81-2.81c.8-.78.8-2.07 0-2.86zM5.41 20L4 18.59l7.72-7.72 1.47 1.35L5.41 20z\"/>\n",
              "  </svg>\n",
              "      </button>\n",
              "      \n",
              "  <style>\n",
              "    .colab-df-container {\n",
              "      display:flex;\n",
              "      flex-wrap:wrap;\n",
              "      gap: 12px;\n",
              "    }\n",
              "\n",
              "    .colab-df-convert {\n",
              "      background-color: #E8F0FE;\n",
              "      border: none;\n",
              "      border-radius: 50%;\n",
              "      cursor: pointer;\n",
              "      display: none;\n",
              "      fill: #1967D2;\n",
              "      height: 32px;\n",
              "      padding: 0 0 0 0;\n",
              "      width: 32px;\n",
              "    }\n",
              "\n",
              "    .colab-df-convert:hover {\n",
              "      background-color: #E2EBFA;\n",
              "      box-shadow: 0px 1px 2px rgba(60, 64, 67, 0.3), 0px 1px 3px 1px rgba(60, 64, 67, 0.15);\n",
              "      fill: #174EA6;\n",
              "    }\n",
              "\n",
              "    [theme=dark] .colab-df-convert {\n",
              "      background-color: #3B4455;\n",
              "      fill: #D2E3FC;\n",
              "    }\n",
              "\n",
              "    [theme=dark] .colab-df-convert:hover {\n",
              "      background-color: #434B5C;\n",
              "      box-shadow: 0px 1px 3px 1px rgba(0, 0, 0, 0.15);\n",
              "      filter: drop-shadow(0px 1px 2px rgba(0, 0, 0, 0.3));\n",
              "      fill: #FFFFFF;\n",
              "    }\n",
              "  </style>\n",
              "\n",
              "      <script>\n",
              "        const buttonEl =\n",
              "          document.querySelector('#df-5fd74f61-d3d3-463b-b916-5bafbd6b7977 button.colab-df-convert');\n",
              "        buttonEl.style.display =\n",
              "          google.colab.kernel.accessAllowed ? 'block' : 'none';\n",
              "\n",
              "        async function convertToInteractive(key) {\n",
              "          const element = document.querySelector('#df-5fd74f61-d3d3-463b-b916-5bafbd6b7977');\n",
              "          const dataTable =\n",
              "            await google.colab.kernel.invokeFunction('convertToInteractive',\n",
              "                                                     [key], {});\n",
              "          if (!dataTable) return;\n",
              "\n",
              "          const docLinkHtml = 'Like what you see? Visit the ' +\n",
              "            '<a target=\"_blank\" href=https://colab.research.google.com/notebooks/data_table.ipynb>data table notebook</a>'\n",
              "            + ' to learn more about interactive tables.';\n",
              "          element.innerHTML = '';\n",
              "          dataTable['output_type'] = 'display_data';\n",
              "          await google.colab.output.renderOutput(dataTable, element);\n",
              "          const docLink = document.createElement('div');\n",
              "          docLink.innerHTML = docLinkHtml;\n",
              "          element.appendChild(docLink);\n",
              "        }\n",
              "      </script>\n",
              "    </div>\n",
              "  </div>\n",
              "  "
            ]
          },
          "metadata": {},
          "execution_count": 11
        }
      ]
    },
    {
      "cell_type": "code",
      "source": [
        "df_test.head()"
      ],
      "metadata": {
        "colab": {
          "base_uri": "https://localhost:8080/",
          "height": 206
        },
        "id": "02aoNSiTkct7",
        "outputId": "d689e8b3-27e7-41bb-cd19-4b0aa2b952c2"
      },
      "execution_count": null,
      "outputs": [
        {
          "output_type": "execute_result",
          "data": {
            "text/plain": [
              "                                                path    label\n",
              "0  /content/Nepali_handwritten_digits_recognition...  digit_9\n",
              "1  /content/Nepali_handwritten_digits_recognition...  digit_9\n",
              "2  /content/Nepali_handwritten_digits_recognition...  digit_9\n",
              "3  /content/Nepali_handwritten_digits_recognition...  digit_9\n",
              "4  /content/Nepali_handwritten_digits_recognition...  digit_9"
            ],
            "text/html": [
              "\n",
              "  <div id=\"df-1ac3cf03-395b-4225-875b-ea27f46f087e\">\n",
              "    <div class=\"colab-df-container\">\n",
              "      <div>\n",
              "<style scoped>\n",
              "    .dataframe tbody tr th:only-of-type {\n",
              "        vertical-align: middle;\n",
              "    }\n",
              "\n",
              "    .dataframe tbody tr th {\n",
              "        vertical-align: top;\n",
              "    }\n",
              "\n",
              "    .dataframe thead th {\n",
              "        text-align: right;\n",
              "    }\n",
              "</style>\n",
              "<table border=\"1\" class=\"dataframe\">\n",
              "  <thead>\n",
              "    <tr style=\"text-align: right;\">\n",
              "      <th></th>\n",
              "      <th>path</th>\n",
              "      <th>label</th>\n",
              "    </tr>\n",
              "  </thead>\n",
              "  <tbody>\n",
              "    <tr>\n",
              "      <th>0</th>\n",
              "      <td>/content/Nepali_handwritten_digits_recognition...</td>\n",
              "      <td>digit_9</td>\n",
              "    </tr>\n",
              "    <tr>\n",
              "      <th>1</th>\n",
              "      <td>/content/Nepali_handwritten_digits_recognition...</td>\n",
              "      <td>digit_9</td>\n",
              "    </tr>\n",
              "    <tr>\n",
              "      <th>2</th>\n",
              "      <td>/content/Nepali_handwritten_digits_recognition...</td>\n",
              "      <td>digit_9</td>\n",
              "    </tr>\n",
              "    <tr>\n",
              "      <th>3</th>\n",
              "      <td>/content/Nepali_handwritten_digits_recognition...</td>\n",
              "      <td>digit_9</td>\n",
              "    </tr>\n",
              "    <tr>\n",
              "      <th>4</th>\n",
              "      <td>/content/Nepali_handwritten_digits_recognition...</td>\n",
              "      <td>digit_9</td>\n",
              "    </tr>\n",
              "  </tbody>\n",
              "</table>\n",
              "</div>\n",
              "      <button class=\"colab-df-convert\" onclick=\"convertToInteractive('df-1ac3cf03-395b-4225-875b-ea27f46f087e')\"\n",
              "              title=\"Convert this dataframe to an interactive table.\"\n",
              "              style=\"display:none;\">\n",
              "        \n",
              "  <svg xmlns=\"http://www.w3.org/2000/svg\" height=\"24px\"viewBox=\"0 0 24 24\"\n",
              "       width=\"24px\">\n",
              "    <path d=\"M0 0h24v24H0V0z\" fill=\"none\"/>\n",
              "    <path d=\"M18.56 5.44l.94 2.06.94-2.06 2.06-.94-2.06-.94-.94-2.06-.94 2.06-2.06.94zm-11 1L8.5 8.5l.94-2.06 2.06-.94-2.06-.94L8.5 2.5l-.94 2.06-2.06.94zm10 10l.94 2.06.94-2.06 2.06-.94-2.06-.94-.94-2.06-.94 2.06-2.06.94z\"/><path d=\"M17.41 7.96l-1.37-1.37c-.4-.4-.92-.59-1.43-.59-.52 0-1.04.2-1.43.59L10.3 9.45l-7.72 7.72c-.78.78-.78 2.05 0 2.83L4 21.41c.39.39.9.59 1.41.59.51 0 1.02-.2 1.41-.59l7.78-7.78 2.81-2.81c.8-.78.8-2.07 0-2.86zM5.41 20L4 18.59l7.72-7.72 1.47 1.35L5.41 20z\"/>\n",
              "  </svg>\n",
              "      </button>\n",
              "      \n",
              "  <style>\n",
              "    .colab-df-container {\n",
              "      display:flex;\n",
              "      flex-wrap:wrap;\n",
              "      gap: 12px;\n",
              "    }\n",
              "\n",
              "    .colab-df-convert {\n",
              "      background-color: #E8F0FE;\n",
              "      border: none;\n",
              "      border-radius: 50%;\n",
              "      cursor: pointer;\n",
              "      display: none;\n",
              "      fill: #1967D2;\n",
              "      height: 32px;\n",
              "      padding: 0 0 0 0;\n",
              "      width: 32px;\n",
              "    }\n",
              "\n",
              "    .colab-df-convert:hover {\n",
              "      background-color: #E2EBFA;\n",
              "      box-shadow: 0px 1px 2px rgba(60, 64, 67, 0.3), 0px 1px 3px 1px rgba(60, 64, 67, 0.15);\n",
              "      fill: #174EA6;\n",
              "    }\n",
              "\n",
              "    [theme=dark] .colab-df-convert {\n",
              "      background-color: #3B4455;\n",
              "      fill: #D2E3FC;\n",
              "    }\n",
              "\n",
              "    [theme=dark] .colab-df-convert:hover {\n",
              "      background-color: #434B5C;\n",
              "      box-shadow: 0px 1px 3px 1px rgba(0, 0, 0, 0.15);\n",
              "      filter: drop-shadow(0px 1px 2px rgba(0, 0, 0, 0.3));\n",
              "      fill: #FFFFFF;\n",
              "    }\n",
              "  </style>\n",
              "\n",
              "      <script>\n",
              "        const buttonEl =\n",
              "          document.querySelector('#df-1ac3cf03-395b-4225-875b-ea27f46f087e button.colab-df-convert');\n",
              "        buttonEl.style.display =\n",
              "          google.colab.kernel.accessAllowed ? 'block' : 'none';\n",
              "\n",
              "        async function convertToInteractive(key) {\n",
              "          const element = document.querySelector('#df-1ac3cf03-395b-4225-875b-ea27f46f087e');\n",
              "          const dataTable =\n",
              "            await google.colab.kernel.invokeFunction('convertToInteractive',\n",
              "                                                     [key], {});\n",
              "          if (!dataTable) return;\n",
              "\n",
              "          const docLinkHtml = 'Like what you see? Visit the ' +\n",
              "            '<a target=\"_blank\" href=https://colab.research.google.com/notebooks/data_table.ipynb>data table notebook</a>'\n",
              "            + ' to learn more about interactive tables.';\n",
              "          element.innerHTML = '';\n",
              "          dataTable['output_type'] = 'display_data';\n",
              "          await google.colab.output.renderOutput(dataTable, element);\n",
              "          const docLink = document.createElement('div');\n",
              "          docLink.innerHTML = docLinkHtml;\n",
              "          element.appendChild(docLink);\n",
              "        }\n",
              "      </script>\n",
              "    </div>\n",
              "  </div>\n",
              "  "
            ]
          },
          "metadata": {},
          "execution_count": 12
        }
      ]
    },
    {
      "cell_type": "code",
      "source": [
        "cv2.imread(df.path[0]).shape"
      ],
      "metadata": {
        "colab": {
          "base_uri": "https://localhost:8080/"
        },
        "id": "P70mmm8H2Iq4",
        "outputId": "2ff9a44e-f086-408e-8425-5a630b0798e9"
      },
      "execution_count": null,
      "outputs": [
        {
          "output_type": "execute_result",
          "data": {
            "text/plain": [
              "(32, 32, 3)"
            ]
          },
          "metadata": {},
          "execution_count": 13
        }
      ]
    },
    {
      "cell_type": "code",
      "source": [
        "LbE = LabelEncoder()\n",
        "df.label =  LbE.fit_transform(df.label)\n",
        "df_test.label =  LbE.fit_transform(df_test.label)"
      ],
      "metadata": {
        "id": "43LSR6PjOpON"
      },
      "execution_count": null,
      "outputs": []
    },
    {
      "cell_type": "code",
      "source": [
        "df_test = df_test.sample(frac=1).reset_index(drop=True)\n",
        "df_test"
      ],
      "metadata": {
        "colab": {
          "base_uri": "https://localhost:8080/",
          "height": 424
        },
        "id": "3djlxJ6xkknI",
        "outputId": "0704805c-7d5c-404d-ec13-fc7a85b08a1a"
      },
      "execution_count": null,
      "outputs": [
        {
          "output_type": "execute_result",
          "data": {
            "text/plain": [
              "                                                   path  label\n",
              "0     /content/Nepali_handwritten_digits_recognition...      7\n",
              "1     /content/Nepali_handwritten_digits_recognition...      3\n",
              "2     /content/Nepali_handwritten_digits_recognition...      5\n",
              "3     /content/Nepali_handwritten_digits_recognition...      2\n",
              "4     /content/Nepali_handwritten_digits_recognition...      0\n",
              "...                                                 ...    ...\n",
              "2995  /content/Nepali_handwritten_digits_recognition...      9\n",
              "2996  /content/Nepali_handwritten_digits_recognition...      8\n",
              "2997  /content/Nepali_handwritten_digits_recognition...      0\n",
              "2998  /content/Nepali_handwritten_digits_recognition...      9\n",
              "2999  /content/Nepali_handwritten_digits_recognition...      9\n",
              "\n",
              "[3000 rows x 2 columns]"
            ],
            "text/html": [
              "\n",
              "  <div id=\"df-0fd73972-4e58-467e-b476-db6b335b5473\">\n",
              "    <div class=\"colab-df-container\">\n",
              "      <div>\n",
              "<style scoped>\n",
              "    .dataframe tbody tr th:only-of-type {\n",
              "        vertical-align: middle;\n",
              "    }\n",
              "\n",
              "    .dataframe tbody tr th {\n",
              "        vertical-align: top;\n",
              "    }\n",
              "\n",
              "    .dataframe thead th {\n",
              "        text-align: right;\n",
              "    }\n",
              "</style>\n",
              "<table border=\"1\" class=\"dataframe\">\n",
              "  <thead>\n",
              "    <tr style=\"text-align: right;\">\n",
              "      <th></th>\n",
              "      <th>path</th>\n",
              "      <th>label</th>\n",
              "    </tr>\n",
              "  </thead>\n",
              "  <tbody>\n",
              "    <tr>\n",
              "      <th>0</th>\n",
              "      <td>/content/Nepali_handwritten_digits_recognition...</td>\n",
              "      <td>7</td>\n",
              "    </tr>\n",
              "    <tr>\n",
              "      <th>1</th>\n",
              "      <td>/content/Nepali_handwritten_digits_recognition...</td>\n",
              "      <td>3</td>\n",
              "    </tr>\n",
              "    <tr>\n",
              "      <th>2</th>\n",
              "      <td>/content/Nepali_handwritten_digits_recognition...</td>\n",
              "      <td>5</td>\n",
              "    </tr>\n",
              "    <tr>\n",
              "      <th>3</th>\n",
              "      <td>/content/Nepali_handwritten_digits_recognition...</td>\n",
              "      <td>2</td>\n",
              "    </tr>\n",
              "    <tr>\n",
              "      <th>4</th>\n",
              "      <td>/content/Nepali_handwritten_digits_recognition...</td>\n",
              "      <td>0</td>\n",
              "    </tr>\n",
              "    <tr>\n",
              "      <th>...</th>\n",
              "      <td>...</td>\n",
              "      <td>...</td>\n",
              "    </tr>\n",
              "    <tr>\n",
              "      <th>2995</th>\n",
              "      <td>/content/Nepali_handwritten_digits_recognition...</td>\n",
              "      <td>9</td>\n",
              "    </tr>\n",
              "    <tr>\n",
              "      <th>2996</th>\n",
              "      <td>/content/Nepali_handwritten_digits_recognition...</td>\n",
              "      <td>8</td>\n",
              "    </tr>\n",
              "    <tr>\n",
              "      <th>2997</th>\n",
              "      <td>/content/Nepali_handwritten_digits_recognition...</td>\n",
              "      <td>0</td>\n",
              "    </tr>\n",
              "    <tr>\n",
              "      <th>2998</th>\n",
              "      <td>/content/Nepali_handwritten_digits_recognition...</td>\n",
              "      <td>9</td>\n",
              "    </tr>\n",
              "    <tr>\n",
              "      <th>2999</th>\n",
              "      <td>/content/Nepali_handwritten_digits_recognition...</td>\n",
              "      <td>9</td>\n",
              "    </tr>\n",
              "  </tbody>\n",
              "</table>\n",
              "<p>3000 rows × 2 columns</p>\n",
              "</div>\n",
              "      <button class=\"colab-df-convert\" onclick=\"convertToInteractive('df-0fd73972-4e58-467e-b476-db6b335b5473')\"\n",
              "              title=\"Convert this dataframe to an interactive table.\"\n",
              "              style=\"display:none;\">\n",
              "        \n",
              "  <svg xmlns=\"http://www.w3.org/2000/svg\" height=\"24px\"viewBox=\"0 0 24 24\"\n",
              "       width=\"24px\">\n",
              "    <path d=\"M0 0h24v24H0V0z\" fill=\"none\"/>\n",
              "    <path d=\"M18.56 5.44l.94 2.06.94-2.06 2.06-.94-2.06-.94-.94-2.06-.94 2.06-2.06.94zm-11 1L8.5 8.5l.94-2.06 2.06-.94-2.06-.94L8.5 2.5l-.94 2.06-2.06.94zm10 10l.94 2.06.94-2.06 2.06-.94-2.06-.94-.94-2.06-.94 2.06-2.06.94z\"/><path d=\"M17.41 7.96l-1.37-1.37c-.4-.4-.92-.59-1.43-.59-.52 0-1.04.2-1.43.59L10.3 9.45l-7.72 7.72c-.78.78-.78 2.05 0 2.83L4 21.41c.39.39.9.59 1.41.59.51 0 1.02-.2 1.41-.59l7.78-7.78 2.81-2.81c.8-.78.8-2.07 0-2.86zM5.41 20L4 18.59l7.72-7.72 1.47 1.35L5.41 20z\"/>\n",
              "  </svg>\n",
              "      </button>\n",
              "      \n",
              "  <style>\n",
              "    .colab-df-container {\n",
              "      display:flex;\n",
              "      flex-wrap:wrap;\n",
              "      gap: 12px;\n",
              "    }\n",
              "\n",
              "    .colab-df-convert {\n",
              "      background-color: #E8F0FE;\n",
              "      border: none;\n",
              "      border-radius: 50%;\n",
              "      cursor: pointer;\n",
              "      display: none;\n",
              "      fill: #1967D2;\n",
              "      height: 32px;\n",
              "      padding: 0 0 0 0;\n",
              "      width: 32px;\n",
              "    }\n",
              "\n",
              "    .colab-df-convert:hover {\n",
              "      background-color: #E2EBFA;\n",
              "      box-shadow: 0px 1px 2px rgba(60, 64, 67, 0.3), 0px 1px 3px 1px rgba(60, 64, 67, 0.15);\n",
              "      fill: #174EA6;\n",
              "    }\n",
              "\n",
              "    [theme=dark] .colab-df-convert {\n",
              "      background-color: #3B4455;\n",
              "      fill: #D2E3FC;\n",
              "    }\n",
              "\n",
              "    [theme=dark] .colab-df-convert:hover {\n",
              "      background-color: #434B5C;\n",
              "      box-shadow: 0px 1px 3px 1px rgba(0, 0, 0, 0.15);\n",
              "      filter: drop-shadow(0px 1px 2px rgba(0, 0, 0, 0.3));\n",
              "      fill: #FFFFFF;\n",
              "    }\n",
              "  </style>\n",
              "\n",
              "      <script>\n",
              "        const buttonEl =\n",
              "          document.querySelector('#df-0fd73972-4e58-467e-b476-db6b335b5473 button.colab-df-convert');\n",
              "        buttonEl.style.display =\n",
              "          google.colab.kernel.accessAllowed ? 'block' : 'none';\n",
              "\n",
              "        async function convertToInteractive(key) {\n",
              "          const element = document.querySelector('#df-0fd73972-4e58-467e-b476-db6b335b5473');\n",
              "          const dataTable =\n",
              "            await google.colab.kernel.invokeFunction('convertToInteractive',\n",
              "                                                     [key], {});\n",
              "          if (!dataTable) return;\n",
              "\n",
              "          const docLinkHtml = 'Like what you see? Visit the ' +\n",
              "            '<a target=\"_blank\" href=https://colab.research.google.com/notebooks/data_table.ipynb>data table notebook</a>'\n",
              "            + ' to learn more about interactive tables.';\n",
              "          element.innerHTML = '';\n",
              "          dataTable['output_type'] = 'display_data';\n",
              "          await google.colab.output.renderOutput(dataTable, element);\n",
              "          const docLink = document.createElement('div');\n",
              "          docLink.innerHTML = docLinkHtml;\n",
              "          element.appendChild(docLink);\n",
              "        }\n",
              "      </script>\n",
              "    </div>\n",
              "  </div>\n",
              "  "
            ]
          },
          "metadata": {},
          "execution_count": 15
        }
      ]
    },
    {
      "cell_type": "code",
      "source": [
        "df = df.sample(frac=1).reset_index(drop=True)\n",
        "df"
      ],
      "metadata": {
        "colab": {
          "base_uri": "https://localhost:8080/",
          "height": 424
        },
        "id": "v3drztu9Oxuu",
        "outputId": "0ad9d9a2-c41f-4727-8cb2-611c163cdce8"
      },
      "execution_count": null,
      "outputs": [
        {
          "output_type": "execute_result",
          "data": {
            "text/plain": [
              "                                                    path  label\n",
              "0      /content/Nepali_handwritten_digits_recognition...      2\n",
              "1      /content/Nepali_handwritten_digits_recognition...      0\n",
              "2      /content/Nepali_handwritten_digits_recognition...      8\n",
              "3      /content/Nepali_handwritten_digits_recognition...      4\n",
              "4      /content/Nepali_handwritten_digits_recognition...      7\n",
              "...                                                  ...    ...\n",
              "16995  /content/Nepali_handwritten_digits_recognition...      9\n",
              "16996  /content/Nepali_handwritten_digits_recognition...      3\n",
              "16997  /content/Nepali_handwritten_digits_recognition...      1\n",
              "16998  /content/Nepali_handwritten_digits_recognition...      9\n",
              "16999  /content/Nepali_handwritten_digits_recognition...      9\n",
              "\n",
              "[17000 rows x 2 columns]"
            ],
            "text/html": [
              "\n",
              "  <div id=\"df-79fe05d4-009a-4e8b-beb8-33e5f957bfab\">\n",
              "    <div class=\"colab-df-container\">\n",
              "      <div>\n",
              "<style scoped>\n",
              "    .dataframe tbody tr th:only-of-type {\n",
              "        vertical-align: middle;\n",
              "    }\n",
              "\n",
              "    .dataframe tbody tr th {\n",
              "        vertical-align: top;\n",
              "    }\n",
              "\n",
              "    .dataframe thead th {\n",
              "        text-align: right;\n",
              "    }\n",
              "</style>\n",
              "<table border=\"1\" class=\"dataframe\">\n",
              "  <thead>\n",
              "    <tr style=\"text-align: right;\">\n",
              "      <th></th>\n",
              "      <th>path</th>\n",
              "      <th>label</th>\n",
              "    </tr>\n",
              "  </thead>\n",
              "  <tbody>\n",
              "    <tr>\n",
              "      <th>0</th>\n",
              "      <td>/content/Nepali_handwritten_digits_recognition...</td>\n",
              "      <td>2</td>\n",
              "    </tr>\n",
              "    <tr>\n",
              "      <th>1</th>\n",
              "      <td>/content/Nepali_handwritten_digits_recognition...</td>\n",
              "      <td>0</td>\n",
              "    </tr>\n",
              "    <tr>\n",
              "      <th>2</th>\n",
              "      <td>/content/Nepali_handwritten_digits_recognition...</td>\n",
              "      <td>8</td>\n",
              "    </tr>\n",
              "    <tr>\n",
              "      <th>3</th>\n",
              "      <td>/content/Nepali_handwritten_digits_recognition...</td>\n",
              "      <td>4</td>\n",
              "    </tr>\n",
              "    <tr>\n",
              "      <th>4</th>\n",
              "      <td>/content/Nepali_handwritten_digits_recognition...</td>\n",
              "      <td>7</td>\n",
              "    </tr>\n",
              "    <tr>\n",
              "      <th>...</th>\n",
              "      <td>...</td>\n",
              "      <td>...</td>\n",
              "    </tr>\n",
              "    <tr>\n",
              "      <th>16995</th>\n",
              "      <td>/content/Nepali_handwritten_digits_recognition...</td>\n",
              "      <td>9</td>\n",
              "    </tr>\n",
              "    <tr>\n",
              "      <th>16996</th>\n",
              "      <td>/content/Nepali_handwritten_digits_recognition...</td>\n",
              "      <td>3</td>\n",
              "    </tr>\n",
              "    <tr>\n",
              "      <th>16997</th>\n",
              "      <td>/content/Nepali_handwritten_digits_recognition...</td>\n",
              "      <td>1</td>\n",
              "    </tr>\n",
              "    <tr>\n",
              "      <th>16998</th>\n",
              "      <td>/content/Nepali_handwritten_digits_recognition...</td>\n",
              "      <td>9</td>\n",
              "    </tr>\n",
              "    <tr>\n",
              "      <th>16999</th>\n",
              "      <td>/content/Nepali_handwritten_digits_recognition...</td>\n",
              "      <td>9</td>\n",
              "    </tr>\n",
              "  </tbody>\n",
              "</table>\n",
              "<p>17000 rows × 2 columns</p>\n",
              "</div>\n",
              "      <button class=\"colab-df-convert\" onclick=\"convertToInteractive('df-79fe05d4-009a-4e8b-beb8-33e5f957bfab')\"\n",
              "              title=\"Convert this dataframe to an interactive table.\"\n",
              "              style=\"display:none;\">\n",
              "        \n",
              "  <svg xmlns=\"http://www.w3.org/2000/svg\" height=\"24px\"viewBox=\"0 0 24 24\"\n",
              "       width=\"24px\">\n",
              "    <path d=\"M0 0h24v24H0V0z\" fill=\"none\"/>\n",
              "    <path d=\"M18.56 5.44l.94 2.06.94-2.06 2.06-.94-2.06-.94-.94-2.06-.94 2.06-2.06.94zm-11 1L8.5 8.5l.94-2.06 2.06-.94-2.06-.94L8.5 2.5l-.94 2.06-2.06.94zm10 10l.94 2.06.94-2.06 2.06-.94-2.06-.94-.94-2.06-.94 2.06-2.06.94z\"/><path d=\"M17.41 7.96l-1.37-1.37c-.4-.4-.92-.59-1.43-.59-.52 0-1.04.2-1.43.59L10.3 9.45l-7.72 7.72c-.78.78-.78 2.05 0 2.83L4 21.41c.39.39.9.59 1.41.59.51 0 1.02-.2 1.41-.59l7.78-7.78 2.81-2.81c.8-.78.8-2.07 0-2.86zM5.41 20L4 18.59l7.72-7.72 1.47 1.35L5.41 20z\"/>\n",
              "  </svg>\n",
              "      </button>\n",
              "      \n",
              "  <style>\n",
              "    .colab-df-container {\n",
              "      display:flex;\n",
              "      flex-wrap:wrap;\n",
              "      gap: 12px;\n",
              "    }\n",
              "\n",
              "    .colab-df-convert {\n",
              "      background-color: #E8F0FE;\n",
              "      border: none;\n",
              "      border-radius: 50%;\n",
              "      cursor: pointer;\n",
              "      display: none;\n",
              "      fill: #1967D2;\n",
              "      height: 32px;\n",
              "      padding: 0 0 0 0;\n",
              "      width: 32px;\n",
              "    }\n",
              "\n",
              "    .colab-df-convert:hover {\n",
              "      background-color: #E2EBFA;\n",
              "      box-shadow: 0px 1px 2px rgba(60, 64, 67, 0.3), 0px 1px 3px 1px rgba(60, 64, 67, 0.15);\n",
              "      fill: #174EA6;\n",
              "    }\n",
              "\n",
              "    [theme=dark] .colab-df-convert {\n",
              "      background-color: #3B4455;\n",
              "      fill: #D2E3FC;\n",
              "    }\n",
              "\n",
              "    [theme=dark] .colab-df-convert:hover {\n",
              "      background-color: #434B5C;\n",
              "      box-shadow: 0px 1px 3px 1px rgba(0, 0, 0, 0.15);\n",
              "      filter: drop-shadow(0px 1px 2px rgba(0, 0, 0, 0.3));\n",
              "      fill: #FFFFFF;\n",
              "    }\n",
              "  </style>\n",
              "\n",
              "      <script>\n",
              "        const buttonEl =\n",
              "          document.querySelector('#df-79fe05d4-009a-4e8b-beb8-33e5f957bfab button.colab-df-convert');\n",
              "        buttonEl.style.display =\n",
              "          google.colab.kernel.accessAllowed ? 'block' : 'none';\n",
              "\n",
              "        async function convertToInteractive(key) {\n",
              "          const element = document.querySelector('#df-79fe05d4-009a-4e8b-beb8-33e5f957bfab');\n",
              "          const dataTable =\n",
              "            await google.colab.kernel.invokeFunction('convertToInteractive',\n",
              "                                                     [key], {});\n",
              "          if (!dataTable) return;\n",
              "\n",
              "          const docLinkHtml = 'Like what you see? Visit the ' +\n",
              "            '<a target=\"_blank\" href=https://colab.research.google.com/notebooks/data_table.ipynb>data table notebook</a>'\n",
              "            + ' to learn more about interactive tables.';\n",
              "          element.innerHTML = '';\n",
              "          dataTable['output_type'] = 'display_data';\n",
              "          await google.colab.output.renderOutput(dataTable, element);\n",
              "          const docLink = document.createElement('div');\n",
              "          docLink.innerHTML = docLinkHtml;\n",
              "          element.appendChild(docLink);\n",
              "        }\n",
              "      </script>\n",
              "    </div>\n",
              "  </div>\n",
              "  "
            ]
          },
          "metadata": {},
          "execution_count": 16
        }
      ]
    },
    {
      "cell_type": "code",
      "source": [
        "class LetterDataset(Dataset):\n",
        "  def __init__(self, df):\n",
        "    self.fpath = df.path\n",
        "    self.label = df.label\n",
        "    self.transform = T.Compose(\n",
        "   [T.ToPILImage(),\n",
        "    T.ToTensor(),  \n",
        "    T.Normalize(\n",
        "       mean=[0.485, 0.456, 0.406],\n",
        "       std=[0.229, 0.224, 0.225]\n",
        "   ),\n",
        "    T.Grayscale(num_output_channels=1)\n",
        "    ]\n",
        ")\n",
        "\n",
        "  def __len__(self):\n",
        "    return len(self.fpath)\n",
        "  \n",
        "  def __getitem__(self, ix):\n",
        "    img = self.fpath[ix]\n",
        "    target = self.label[ix]\n",
        "    img = cv2.imread(img)\n",
        "    im = self.transform(img)\n",
        "    return torch.tensor(im/255).to(device).float(), torch.tensor(target).long().to(device)"
      ],
      "metadata": {
        "id": "92IlT7saw2uL"
      },
      "execution_count": null,
      "outputs": []
    },
    {
      "cell_type": "code",
      "source": [
        "data =  LetterDataset(df)\n",
        "img, label = data[100]\n",
        "print(img.shape)\n",
        "plt.imshow(img.cpu().reshape(32,32))\n",
        "plt.title(label)"
      ],
      "metadata": {
        "colab": {
          "base_uri": "https://localhost:8080/",
          "height": 355
        },
        "id": "6wnb-HrYys3j",
        "outputId": "a5b75337-b3c4-47af-8c2d-955ba970583f"
      },
      "execution_count": null,
      "outputs": [
        {
          "output_type": "stream",
          "name": "stderr",
          "text": [
            "/usr/local/lib/python3.7/dist-packages/ipykernel_launcher.py:24: UserWarning: To copy construct from a tensor, it is recommended to use sourceTensor.clone().detach() or sourceTensor.clone().detach().requires_grad_(True), rather than torch.tensor(sourceTensor).\n"
          ]
        },
        {
          "output_type": "stream",
          "name": "stdout",
          "text": [
            "torch.Size([1, 32, 32])\n"
          ]
        },
        {
          "output_type": "execute_result",
          "data": {
            "text/plain": [
              "Text(0.5, 1.0, \"tensor(0, device='cuda:0')\")"
            ]
          },
          "metadata": {},
          "execution_count": 18
        },
        {
          "output_type": "display_data",
          "data": {
            "text/plain": [
              "<Figure size 432x288 with 1 Axes>"
            ],
            "image/png": "[encoded data removed]"
          },
          "metadata": {
            "needs_background": "light"
          }
        }
      ]
    },
    {
      "cell_type": "code",
      "source": [],
      "metadata": {
        "id": "XVdja0tM3Zi_"
      },
      "execution_count": null,
      "outputs": []
    },
    {
      "cell_type": "code",
      "source": [
        "def conv_layer(ni, no, kernel_size, max_pool_num=2, stride=1,):\n",
        "  return nn.Sequential(\n",
        "      nn.Conv2d(ni, no, kernel_size, stride),\n",
        "      nn.BatchNorm2d(no),\n",
        "      nn.LeakyReLU(0.2),\n",
        "      nn.MaxPool2d(max_pool_num)\n",
        "  )"
      ],
      "metadata": {
        "id": "uoy_htFrYEC6"
      },
      "execution_count": null,
      "outputs": []
    },
    {
      "cell_type": "code",
      "source": [
        "from torch.nn.modules.activation import Softmax\n",
        "def get_model():\n",
        "  model = nn.Sequential(\n",
        "      conv_layer(1,8,2),\n",
        "      conv_layer(8,16, 2),\n",
        "      conv_layer(16, 64, 2),\n",
        "      nn.Flatten(),\n",
        "      nn.Linear(64*3*3,192),\n",
        "      nn.ReLU(),\n",
        "      nn.Linear(192, 64),\n",
        "      nn.ReLU(),\n",
        "      nn.Linear(64, 10),\n",
        "      nn.Softmax()\n",
        "  ).to(device)\n",
        "  loss_fn = nn.CrossEntropyLoss()\n",
        "  optimizer = torch.optim.Adam(model.parameters(), lr=1e-3)\n",
        "  return model, loss_fn, optimizer"
      ],
      "metadata": {
        "id": "RI4R8JjbRXSh"
      },
      "execution_count": null,
      "outputs": []
    },
    {
      "cell_type": "code",
      "source": [
        "def calculateHWOUT(H_in, W_IN, padding, kernel_size, stride, max_pool_num):\n",
        "    H_out = (((H_in + 2*padding - kernel_size) / stride ) +1) / max_pool_num\n",
        "    W_out = (((W_IN + 2*padding - kernel_size) / stride ) +1) / max_pool_num\n",
        "    return (round(H_out), round(W_out))"
      ],
      "metadata": {
        "id": "80TgrrsQjeOB"
      },
      "execution_count": null,
      "outputs": []
    },
    {
      "cell_type": "code",
      "source": [
        "calculateHWOUT(H_in=4, W_IN=4, padding=0, kernel_size=2, stride=1, max_pool_num=2)"
      ],
      "metadata": {
        "colab": {
          "base_uri": "https://localhost:8080/"
        },
        "id": "2WhJLxhni87k",
        "outputId": "b0609b78-0344-4d65-96ef-8654bb001ea2"
      },
      "execution_count": null,
      "outputs": [
        {
          "output_type": "execute_result",
          "data": {
            "text/plain": [
              "(2, 2)"
            ]
          },
          "metadata": {},
          "execution_count": 22
        }
      ]
    },
    {
      "cell_type": "code",
      "source": [
        "model, loss_fn, optimizer = get_model()"
      ],
      "metadata": {
        "id": "wuFJF9U3abio"
      },
      "execution_count": null,
      "outputs": []
    },
    {
      "cell_type": "code",
      "source": [
        "from torchsummary import summary\n",
        "summary(model, (1, 32, 32))"
      ],
      "metadata": {
        "colab": {
          "base_uri": "https://localhost:8080/"
        },
        "id": "hQ3lt5AcalP3",
        "outputId": "bec03338-9c50-4dd1-af48-559e912d429f"
      },
      "execution_count": null,
      "outputs": [
        {
          "output_type": "stream",
          "name": "stdout",
          "text": [
            "----------------------------------------------------------------\n",
            "        Layer (type)               Output Shape         Param #\n",
            "================================================================\n",
            "            Conv2d-1            [-1, 8, 31, 31]              40\n",
            "       BatchNorm2d-2            [-1, 8, 31, 31]              16\n",
            "         LeakyReLU-3            [-1, 8, 31, 31]               0\n",
            "         MaxPool2d-4            [-1, 8, 15, 15]               0\n",
            "            Conv2d-5           [-1, 16, 14, 14]             528\n",
            "       BatchNorm2d-6           [-1, 16, 14, 14]              32\n",
            "         LeakyReLU-7           [-1, 16, 14, 14]               0\n",
            "         MaxPool2d-8             [-1, 16, 7, 7]               0\n",
            "            Conv2d-9             [-1, 64, 6, 6]           4,160\n",
            "      BatchNorm2d-10             [-1, 64, 6, 6]             128\n",
            "        LeakyReLU-11             [-1, 64, 6, 6]               0\n",
            "        MaxPool2d-12             [-1, 64, 3, 3]               0\n",
            "          Flatten-13                  [-1, 576]               0\n",
            "           Linear-14                  [-1, 192]         110,784\n",
            "             ReLU-15                  [-1, 192]               0\n",
            "           Linear-16                   [-1, 64]          12,352\n",
            "             ReLU-17                   [-1, 64]               0\n",
            "           Linear-18                   [-1, 10]             650\n",
            "          Softmax-19                   [-1, 10]               0\n",
            "================================================================\n",
            "Total params: 128,690\n",
            "Trainable params: 128,690\n",
            "Non-trainable params: 0\n",
            "----------------------------------------------------------------\n",
            "Input size (MB): 0.00\n",
            "Forward/backward pass size (MB): 0.33\n",
            "Params size (MB): 0.49\n",
            "Estimated Total Size (MB): 0.83\n",
            "----------------------------------------------------------------\n"
          ]
        },
        {
          "output_type": "stream",
          "name": "stderr",
          "text": [
            "/usr/local/lib/python3.7/dist-packages/torch/nn/modules/container.py:139: UserWarning: Implicit dimension choice for softmax has been deprecated. Change the call to include dim=X as an argument.\n",
            "  input = module(input)\n"
          ]
        }
      ]
    },
    {
      "cell_type": "code",
      "source": [
        "def get_data():\n",
        "  data =  LetterDataset(df)\n",
        "  trn_ldr = DataLoader(data, batch_size=32, shuffle=True)\n",
        "  data_test = LetterDataset(df_test)\n",
        "  test_ldr = DataLoader(data_test, batch_size=32, shuffle=True)\n",
        "  return trn_ldr, test_ldr"
      ],
      "metadata": {
        "id": "qtKAnVVhaqoO"
      },
      "execution_count": null,
      "outputs": []
    },
    {
      "cell_type": "code",
      "source": [
        "def train_batch(x, y, model, loss_fn, optimizer):\n",
        "  model.train()\n",
        "  pred = model(x)\n",
        "  batch_loss = loss_fn(pred, y)\n",
        "  batch_loss.backward()\n",
        "  optimizer.step()\n",
        "  optimizer.zero_grad()\n",
        "  return batch_loss.item()"
      ],
      "metadata": {
        "id": "PvCTYHo615tI"
      },
      "execution_count": null,
      "outputs": []
    },
    {
      "cell_type": "code",
      "source": [
        "@torch.no_grad()\n",
        "def accuracy(x, y, model):\n",
        "  model.eval()\n",
        "  pred = model(x)\n",
        "  _, is_correct = torch.max(pred.data,1)\n",
        "  acc_all = (is_correct==y).detach().cpu().numpy()\n",
        "  return acc_all"
      ],
      "metadata": {
        "id": "6aqB-2WG4Z9Y"
      },
      "execution_count": null,
      "outputs": []
    },
    {
      "cell_type": "code",
      "source": [
        "@torch.no_grad()\n",
        "def val_loss_trn(x, y, model, loss_fn):\n",
        "  prediction = model(x)\n",
        "  val_loss = loss_fn(prediction, y)\n",
        "\n",
        "  return val_loss.item()"
      ],
      "metadata": {
        "id": "vepXfx0sz6LF"
      },
      "execution_count": null,
      "outputs": []
    },
    {
      "cell_type": "code",
      "source": [
        "trn_ldr, test_ldr = get_data()\n",
        "model, loss_fn, optimizer = get_model()"
      ],
      "metadata": {
        "id": "kTo6Hagi4r7c"
      },
      "execution_count": null,
      "outputs": []
    },
    {
      "cell_type": "code",
      "source": [
        "train_loss = []\n",
        "train_accuracies= []\n",
        "val_loss = [] \n",
        "val_accuracies = []\n",
        "\n",
        "for i in range(20):\n",
        "  print(f'Epoch: _________*****{i}*****_______')\n",
        "  train_epoch_losses, train_epoch_accuracies = [], []\n",
        "  val_epoch_accuracies, val_epoch_losses = [], []\n",
        "\n",
        "\n",
        "\n",
        "  for ix, batch in (enumerate(iter(trn_ldr))):\n",
        "      x, y = batch\n",
        "      train_epoch_losses.append(train_batch(x, y, model, loss_fn, optimizer))\n",
        "  train_epoch_loss = np.array(train_epoch_losses).mean()\n",
        "  print(f'Epoch: _________*****{i} Training Loss : {train_epoch_loss} *****_______')\n",
        "\n",
        "\n",
        "\n",
        "  for ix, batch in (enumerate(iter(trn_ldr))):\n",
        "    x, y = batch\n",
        "    train_epoch_accuracies.append(sum(accuracy(x, y, model)) / len(y))\n",
        "  train_epoch_accuracy = np.array(train_epoch_accuracies).mean()\n",
        "  print(f'Epoch: _________*****{i} Training Accuracy: {train_epoch_accuracy} *****_______')\n",
        "\n",
        "\n",
        "\n",
        "  for ix, batch in (enumerate(iter(test_ldr))):\n",
        "    x, y = batch\n",
        "    val_epoch_losses.append(val_loss_trn(x, y, model, loss_fn))\n",
        "  val_epoch_loss = np.array(val_epoch_losses).mean()\n",
        "  print(f'Epoch: _________*****{i} Validation Loss : {val_epoch_loss} *****_______')\n",
        "\n",
        "  for ix, batch in (enumerate(iter(test_ldr))):\n",
        "    x, y = batch\n",
        "    val_epoch_accuracies.append(sum(accuracy(x, y, model)) / len(y))\n",
        "  print(f'Epoch: _________*****{i} Validation Accuracy. {val_epoch_accuracy} *****_______')\n",
        "  val_epoch_accuracy = np.array(val_epoch_accuracies).mean()\n",
        "  print('\\n')\n",
        "\n",
        "  train_loss.append(train_epoch_loss)\n",
        "  train_accuracies.append(train_epoch_accuracy)\n",
        "  val_accuracies.append(val_epoch_accuracy)\n",
        "  val_loss.append(val_epoch_loss)"
      ],
      "metadata": {
        "colab": {
          "base_uri": "https://localhost:8080/"
        },
        "id": "gaP-3jLe49LB",
        "outputId": "75e0568a-4ebe-49a6-bdc7-f5dfe41b44b0"
      },
      "execution_count": null,
      "outputs": [
        {
          "output_type": "stream",
          "name": "stdout",
          "text": [
            "Epoch: _________*****0*****_______\n"
          ]
        },
        {
          "output_type": "stream",
          "name": "stderr",
          "text": [
            "/usr/local/lib/python3.7/dist-packages/ipykernel_launcher.py:24: UserWarning: To copy construct from a tensor, it is recommended to use sourceTensor.clone().detach() or sourceTensor.clone().detach().requires_grad_(True), rather than torch.tensor(sourceTensor).\n",
            "/usr/local/lib/python3.7/dist-packages/torch/nn/modules/container.py:139: UserWarning: Implicit dimension choice for softmax has been deprecated. Change the call to include dim=X as an argument.\n",
            "  input = module(input)\n"
          ]
        },
        {
          "output_type": "stream",
          "name": "stdout",
          "text": [
            "Epoch: _________*****0 Training Loss : 1.467172447227894 *****_______\n",
            "Epoch: _________*****0 Training Accuracy: 0.9987077067669173 *****_______\n",
            "Epoch: _________*****0 Validation Loss : 1.4689860305887588 *****_______\n",
            "Epoch: _________*****0 Validation Accuracy. 0.9940159574468085 *****_______\n",
            "\n",
            "\n",
            "Epoch: _________*****1*****_______\n",
            "Epoch: _________*****1 Training Loss : 1.4630428980615802 *****_______\n",
            "Epoch: _________*****1 Training Accuracy: 0.9971804511278195 *****_______\n",
            "Epoch: _________*****1 Validation Loss : 1.4708235454052052 *****_______\n",
            "Epoch: _________*****1 Validation Accuracy. 0.9920212765957447 *****_______\n",
            "\n",
            "\n",
            "Epoch: _________*****2*****_______\n",
            "Epoch: _________*****2 Training Loss : 1.464478238856882 *****_______\n",
            "Epoch: _________*****2 Training Accuracy: 0.864250469924812 *****_______\n",
            "Epoch: _________*****2 Validation Loss : 1.5931803660189852 *****_______\n",
            "Epoch: _________*****2 Validation Accuracy. 0.9902482269503545 *****_______\n",
            "\n",
            "\n",
            "Epoch: _________*****3*****_______\n",
            "Epoch: _________*****3 Training Loss : 1.4664085146627928 *****_______\n",
            "Epoch: _________*****3 Training Accuracy: 0.9623472744360902 *****_______\n",
            "Epoch: _________*****3 Validation Loss : 1.5104483150421304 *****_______\n",
            "Epoch: _________*****3 Validation Accuracy. 0.8673537234042553 *****_______\n",
            "\n",
            "\n",
            "Epoch: _________*****4*****_______\n",
            "Epoch: _________*****4 Training Loss : 1.4644011678104114 *****_______\n",
            "Epoch: _________*****4 Training Accuracy: 0.986313439849624 *****_______\n",
            "Epoch: _________*****4 Validation Loss : 1.4821456911716056 *****_______\n",
            "Epoch: _________*****4 Validation Accuracy. 0.9505762411347518 *****_______\n",
            "\n",
            "\n",
            "Epoch: _________*****5*****_______\n",
            "Epoch: _________*****5 Training Loss : 1.4645138210371922 *****_______\n",
            "Epoch: _________*****5 Training Accuracy: 0.7573425751879699 *****_______\n",
            "Epoch: _________*****5 Validation Loss : 1.7171301917826876 *****_______\n",
            "Epoch: _________*****5 Validation Accuracy. 0.9789450354609929 *****_______\n",
            "\n",
            "\n",
            "Epoch: _________*****6*****_______\n",
            "Epoch: _________*****6 Training Loss : 1.4654019793173425 *****_______\n",
            "Epoch: _________*****6 Training Accuracy: 0.9767387218045113 *****_______\n",
            "Epoch: _________*****6 Validation Loss : 1.4924647896847827 *****_______\n",
            "Epoch: _________*****6 Validation Accuracy. 0.7415780141843971 *****_______\n",
            "\n",
            "\n",
            "Epoch: _________*****7*****_______\n",
            "Epoch: _________*****7 Training Loss : 1.4630272245048581 *****_______\n",
            "Epoch: _________*****7 Training Accuracy: 0.9939497180451128 *****_______\n",
            "Epoch: _________*****7 Validation Loss : 1.4735034805663088 *****_______\n",
            "Epoch: _________*****7 Validation Accuracy. 0.9691932624113476 *****_______\n",
            "\n",
            "\n",
            "Epoch: _________*****8*****_______\n",
            "Epoch: _________*****8 Training Loss : 1.4642896215270336 *****_______\n",
            "Epoch: _________*****8 Training Accuracy: 0.9945958646616542 *****_______\n",
            "Epoch: _________*****8 Validation Loss : 1.4700652969644425 *****_______\n",
            "Epoch: _________*****8 Validation Accuracy. 0.9871453900709221 *****_______\n",
            "\n",
            "\n",
            "Epoch: _________*****9*****_______\n",
            "Epoch: _________*****9 Training Loss : 1.4652375092631893 *****_______\n",
            "Epoch: _________*****9 Training Accuracy: 0.995124530075188 *****_______\n",
            "Epoch: _________*****9 Validation Loss : 1.4723521673932989 *****_______\n",
            "Epoch: _________*****9 Validation Accuracy. 0.9913563829787234 *****_______\n",
            "\n",
            "\n",
            "Epoch: _________*****10*****_______\n",
            "Epoch: _________*****10 Training Loss : 1.4640764143682063 *****_______\n",
            "Epoch: _________*****10 Training Accuracy: 0.9984727443609023 *****_______\n",
            "Epoch: _________*****10 Validation Loss : 1.4664924842246034 *****_______\n",
            "Epoch: _________*****10 Validation Accuracy. 0.9882535460992907 *****_______\n",
            "\n",
            "\n",
            "Epoch: _________*****11*****_______\n",
            "Epoch: _________*****11 Training Loss : 1.4637706483665265 *****_______\n",
            "Epoch: _________*****11 Training Accuracy: 0.9983552631578947 *****_______\n",
            "Epoch: _________*****11 Validation Loss : 1.4673527973763487 *****_______\n",
            "Epoch: _________*****11 Validation Accuracy. 0.9946808510638298 *****_______\n",
            "\n",
            "\n",
            "Epoch: _________*****12*****_______\n",
            "Epoch: _________*****12 Training Loss : 1.463338475478323 *****_______\n",
            "Epoch: _________*****12 Training Accuracy: 0.9809680451127819 *****_______\n",
            "Epoch: _________*****12 Validation Loss : 1.4837548720075728 *****_______\n",
            "Epoch: _________*****12 Validation Accuracy. 0.9939051418439716 *****_______\n",
            "\n",
            "\n",
            "Epoch: _________*****13*****_______\n",
            "Epoch: _________*****13 Training Loss : 1.4636081235301226 *****_______\n",
            "Epoch: _________*****13 Training Accuracy: 0.9985902255639098 *****_______\n",
            "Epoch: _________*****13 Validation Loss : 1.4644544403603736 *****_______\n",
            "Epoch: _________*****13 Validation Accuracy. 0.977061170212766 *****_______\n",
            "\n",
            "\n",
            "Epoch: _________*****14*****_______\n",
            "Epoch: _________*****14 Training Loss : 1.4645865528207076 *****_______\n",
            "Epoch: _________*****14 Training Accuracy: 0.5557448308270677 *****_______\n",
            "Epoch: _________*****14 Validation Loss : 1.913523479979089 *****_______\n",
            "Epoch: _________*****14 Validation Accuracy. 0.9966755319148937 *****_______\n",
            "\n",
            "\n",
            "Epoch: _________*****15*****_______\n",
            "Epoch: _________*****15 Training Loss : 1.4642417798364968 *****_______\n",
            "Epoch: _________*****15 Training Accuracy: 0.8336466165413534 *****_______\n",
            "Epoch: _________*****15 Validation Loss : 1.6322972584278026 *****_______\n",
            "Epoch: _________*****15 Validation Accuracy. 0.5428856382978723 *****_______\n",
            "\n",
            "\n",
            "Epoch: _________*****16*****_______\n",
            "Epoch: _________*****16 Training Loss : 1.4644464337287988 *****_______\n",
            "Epoch: _________*****16 Training Accuracy: 0.9987077067669173 *****_______\n",
            "Epoch: _________*****16 Validation Loss : 1.4669523670318279 *****_______\n",
            "Epoch: _________*****16 Validation Accuracy. 0.8286790780141844 *****_______\n",
            "\n",
            "\n",
            "Epoch: _________*****17*****_______\n",
            "Epoch: _________*****17 Training Loss : 1.463884907557552 *****_______\n",
            "Epoch: _________*****17 Training Accuracy: 0.9990601503759399 *****_______\n",
            "Epoch: _________*****17 Validation Loss : 1.4662048258679978 *****_______\n",
            "Epoch: _________*****17 Validation Accuracy. 0.9943484042553191 *****_______\n",
            "\n",
            "\n",
            "Epoch: _________*****18*****_______\n",
            "Epoch: _________*****18 Training Loss : 1.462755023760903 *****_______\n",
            "Epoch: _________*****18 Training Accuracy: 0.9555921052631579 *****_______\n",
            "Epoch: _________*****18 Validation Loss : 1.5091573126772617 *****_______\n",
            "Epoch: _________*****18 Validation Accuracy. 0.9950132978723404 *****_______\n",
            "\n",
            "\n",
            "Epoch: _________*****19*****_______\n",
            "Epoch: _________*****19 Training Loss : 1.4634775806190377 *****_______\n",
            "Epoch: _________*****19 Training Accuracy: 0.3587875939849624 *****_______\n",
            "Epoch: _________*****19 Validation Loss : 2.102244273145148 *****_______\n",
            "Epoch: _________*****19 Validation Accuracy. 0.9511303191489362 *****_______\n",
            "\n",
            "\n"
          ]
        }
      ]
    },
    {
      "cell_type": "code",
      "source": [
        "epochs = np.arange(20) + 1\n",
        "import matplotlib.ticker as mtick\n",
        "import matplotlib.pyplot as plt\n",
        "%matplotlib inline\n",
        "\n",
        "plt.plot(epochs, train_accuracies , label='Training accuracy')\n",
        "plt.plot(epochs, val_accuracies, label='Val_accuracy')\n",
        "plt.gca().xaxis.set_major_locator(mtick.MultipleLocator(1))\n",
        "plt.title('Training and Validation accuracy with 17000 data points used for training')\n",
        "plt.xlabel('epochs')\n",
        "plt.ylabel('accuracy')\n",
        "plt.legend()\n",
        "plt.gca().set_yticklabels(['{:.0f}%'.format(x*100) for x in plt.gca().get_yticks()])\n",
        "plt.grid('off')\n",
        "plt.show()"
      ],
      "metadata": {
        "colab": {
          "base_uri": "https://localhost:8080/",
          "height": 295
        },
        "id": "TgnJp9tCdNOz",
        "outputId": "6096b1cc-3c40-4a59-acb6-adcc0bf31a40"
      },
      "execution_count": null,
      "outputs": [
        {
          "output_type": "display_data",
          "data": {
            "text/plain": [
              "<Figure size 432x288 with 1 Axes>"
            ],
            "image/png": "[encoded data removed]"
          },
          "metadata": {
            "needs_background": "light"
          }
        }
      ]
    },
    {
      "cell_type": "code",
      "source": [
        "epochs = np.arange(20) + 1\n",
        "import matplotlib.ticker as mtick\n",
        "import matplotlib.pyplot as plt\n",
        "%matplotlib inline\n",
        "\n",
        "plt.plot(epochs, train_loss , label='Training loss')\n",
        "plt.plot(epochs, val_loss, label='Val_loss')\n",
        "plt.gca().xaxis.set_major_locator(mtick.MultipleLocator(1))\n",
        "plt.title('Training and Validation loss with 17000 data points used for training')\n",
        "plt.xlabel('epochs')\n",
        "plt.ylabel('accuracy')\n",
        "plt.legend()\n",
        "# plt.gca().set_yticklabels(['{:.0f}'.format(x) for x in plt.gca().get_yticks()])/\n",
        "plt.grid('off')\n",
        "plt.show()"
      ],
      "metadata": {
        "colab": {
          "base_uri": "https://localhost:8080/",
          "height": 295
        },
        "id": "Mm0tWrPJeaTV",
        "outputId": "cd60f77b-510b-49a8-f642-13248d14b699"
      },
      "execution_count": null,
      "outputs": [
        {
          "output_type": "display_data",
          "data": {
            "text/plain": [
              "<Figure size 432x288 with 1 Axes>"
            ],
            "image/png": "[encoded data removed]"
          },
          "metadata": {
            "needs_background": "light"
          }
        }
      ]
    },
    {
      "cell_type": "code",
      "source": [
        "def preprocess_predict_data(img_path):\n",
        "  img = cv2.imread(img_path)\n",
        "  transform = T.Compose(\n",
        "   [T.ToPILImage(),\n",
        "    T.ToTensor(),  \n",
        "    T.Normalize(\n",
        "       mean=[0.485, 0.456, 0.406],\n",
        "       std=[0.229, 0.224, 0.225]\n",
        "   ),\n",
        "    T.Grayscale(num_output_channels=1)\n",
        "    ]\n",
        "  )\n",
        "  img = transform(img).to(device)\n",
        "  return img\n",
        "\n",
        "def predict(x, model):\n",
        "  img = preprocess_predict_data(x)\n",
        "  img = img.unsqueeze_(0)\n",
        "  pred = model(img)\n",
        "  return torch.max(pred.data, 1)"
      ],
      "metadata": {
        "id": "vUzfg4fl-B_O"
      },
      "execution_count": null,
      "outputs": []
    },
    {
      "cell_type": "code",
      "source": [
        "img_path = '/content/Nepali_handwritten_digits_recognition/dataset/Test/digits/digit_4/40846.png'\n",
        "# img = preprocess_predict_data(img_path)\n",
        "pred = predict(img_path, model)\n",
        "pred"
      ],
      "metadata": {
        "colab": {
          "base_uri": "https://localhost:8080/"
        },
        "id": "JlR2oNGiB5L3",
        "outputId": "dd21060b-7426-4c35-e732-dbc395bcabae"
      },
      "execution_count": null,
      "outputs": [
        {
          "output_type": "stream",
          "name": "stderr",
          "text": [
            "/usr/local/lib/python3.7/dist-packages/torch/nn/modules/container.py:139: UserWarning: Implicit dimension choice for softmax has been deprecated. Change the call to include dim=X as an argument.\n",
            "  input = module(input)\n"
          ]
        },
        {
          "output_type": "execute_result",
          "data": {
            "text/plain": [
              "torch.return_types.max(\n",
              "values=tensor([1.], device='cuda:0'),\n",
              "indices=tensor([4], device='cuda:0'))"
            ]
          },
          "metadata": {},
          "execution_count": 80
        }
      ]
    },
    {
      "cell_type": "code",
      "source": [
        "img_path = '/content/Nepali_handwritten_digits_recognition/dataset/Test/digits/digit_7/10215.png'\n",
        "pred = predict(img_path, model)\n",
        "pred"
      ],
      "metadata": {
        "colab": {
          "base_uri": "https://localhost:8080/"
        },
        "id": "jRVt7U7YC6RE",
        "outputId": "273fb64d-b5f3-4378-c06f-56ab1e0f31c9"
      },
      "execution_count": null,
      "outputs": [
        {
          "output_type": "execute_result",
          "data": {
            "text/plain": [
              "torch.return_types.max(\n",
              "values=tensor([1.], device='cuda:0'),\n",
              "indices=tensor([7], device='cuda:0'))"
            ]
          },
          "metadata": {},
          "execution_count": 81
        }
      ]
    },
    {
      "cell_type": "code",
      "source": [],
      "metadata": {
        "id": "rTWxb19GFF1U"
      },
      "execution_count": null,
      "outputs": []
    }
  ]
}